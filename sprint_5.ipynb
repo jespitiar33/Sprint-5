{
 "cells": [
  {
   "cell_type": "markdown",
   "metadata": {},
   "source": [
    "# Hola &#x1F600;,\n",
    "\n",
    "Soy **Hesus Garcia** – , tu revisor de confianza, también conocido como **\"El Hesus que lleva la H de 'héroe' del código\" 🦸‍♂️**. Sí, soy el único Hesus con H que te ayudará a llevar tu trabajo al siguiente nivel. Estoy preparado con observaciones y sugerencias que harán que tu proyecto destaque y esté a la altura de las mejores prácticas en desarrollo. ¡Prepárate para mejorar y brillar en el mundo del código! 🚀\n",
    "\n",
    "Cada vez que encuentre un detalle importante en tu código, te lo señalaré para que puedas corregirlo y así te prepares para un ambiente de trabajo real, donde el líder de tu equipo actuaría de manera similar. Si en algún momento no logras solucionar el problema, te daré más detalles para ayudarte en nuestra próxima oportunidad de revisión.\n",
    "\n",
    "Es importante que cuando encuentres un comentario, **no los muevas, no los modifiques, ni los borres**.\n",
    "\n",
    "---\n",
    "\n",
    "### Formato de Comentarios\n",
    "\n",
    "Revisaré cuidadosamente cada implementación en tu notebook para asegurar que cumpla con los requisitos y te daré comentarios de acuerdo al siguiente formato:\n",
    "\n",
    "\n",
    "<div class=\"alert alert-block alert-success\">\n",
    "<b>Comentario del revisor</b> <a class=\"tocSkip\"></a><br>\n",
    "    \n",
    "<b>Éxito</b> - ¡Excelente trabajo! Esta parte está bien implementada y contribuye significativamente al análisis de datos o al proyecto. Continúa aplicando estas buenas prácticas en futuras secciones.\n",
    "    \n",
    "</div>\n",
    "\n",
    "<div class=\"alert alert-block alert-warning\">\n",
    "<b>Comentario del revisor</b> <a class=\"tocSkip\"></a><br>\n",
    "    \n",
    "<b>Atención</b> ⚠️ - Este código está correcto, pero se puede optimizar. Considera implementar mejoras para que sea más eficiente y fácil de leer. Esto fortalecerá la calidad de tu proyecto.\n",
    "    \n",
    "</div>\n",
    "\n",
    "<div class=\"alert alert-block alert-danger\">\n",
    "<b>Comentario del revisor</b> <a class=\"tocSkip\"></a><br>\n",
    "    \n",
    "<b>A resolver</b> ❗ - Aquí hay un problema o error en el código que es necesario corregir para aprobar esta sección. Por favor, revisa y corrige este punto, ya que es fundamental para la validez del análisis y la precisión de los resultados.\n",
    "    \n",
    "</div>\n",
    "\n",
    "---\n",
    "\n",
    "Al final de cada revisión, recibirás un **Comentario General del Revisor** que incluirá:\n",
    "\n",
    "- **Aspectos positivos:** Un resumen de los puntos fuertes de tu proyecto.\n",
    "- **Áreas de mejora:** Sugerencias sobre aspectos donde puedes mejorar.\n",
    "- **Temas adicionales para investigar:** Ideas de temas opcionales que puedes explorar por tu cuenta para desarrollar aún más tus habilidades.\n",
    "\n",
    "Estos temas adicionales no son obligatorios en esta etapa, pero pueden serte útiles para profundizar en el futuro.\n",
    "\n",
    "--- \n",
    "\n",
    "Esta estructura en viñetas facilita la lectura y comprensión de cada parte del comentario final.\n",
    "\n",
    "También puedes responderme de la siguiente manera si tienes alguna duda o quieres aclarar algo específico:\n",
    "\n",
    "\n",
    "<div class=\"alert alert-block alert-info\">\n",
    "<b>Respuesta del estudiante</b> <a class=\"tocSkip\"></a>\n",
    "    \n",
    "Aquí puedes escribir tu respuesta o pregunta sobre el comentario.\n",
    "    \n",
    "</div>\n"
   ]
  },
  {
   "cell_type": "markdown",
   "metadata": {
    "id": "3rYiDeEH0q0f"
   },
   "source": [
    "# ¿Cuál es la mejor tarifa?\n",
    "\n",
    "Trabajas como analista para el operador de telecomunicaciones Megaline. La empresa ofrece a sus clientes dos tarifas de prepago, Surf y Ultimate. El departamento comercial quiere saber cuál de las tarifas genera más ingresos para poder ajustar el presupuesto de publicidad.\n",
    "\n",
    "Vas a realizar un análisis preliminar de las tarifas basado en una selección de clientes relativamente pequeña. Tendrás los datos de 500 clientes de Megaline: quiénes son los clientes, de dónde son, qué tarifa usan, así como la cantidad de llamadas que hicieron y los mensajes de texto que enviaron en 2018. Tu trabajo es analizar el comportamiento de los clientes y determinar qué tarifa de prepago genera más ingresos."
   ]
  },
  {
   "cell_type": "markdown",
   "metadata": {
    "id": "VNddPNRQ0q0w"
   },
   "source": [
    "[Te proporcionamos algunos comentarios para orientarte mientras completas este proyecto. Pero debes asegurarte de eliminar todos los comentarios entre corchetes antes de entregar tu proyecto.]\n",
    "\n",
    "[Antes de sumergirte en el análisis de datos, explica por tu propia cuenta el propósito del proyecto y las acciones que planeas realizar.]\n",
    "\n",
    "[Ten en cuenta que estudiar, modificar y analizar datos es un proceso iterativo. Es normal volver a los pasos anteriores y corregirlos/ampliarlos para permitir nuevos pasos.]"
   ]
  },
  {
   "cell_type": "markdown",
   "metadata": {
    "id": "MQi4IPy70q0y"
   },
   "source": [
    "## Inicialización"
   ]
  },
  {
   "cell_type": "code",
   "execution_count": 71,
   "metadata": {
    "id": "MtYIuBxu0q0z"
   },
   "outputs": [],
   "source": [
    "# Cargar todas las librerías\n",
    "import pandas as pd\n",
    "from matplotlib import pyplot as plt\n",
    "import numpy as np\n",
    "from scipy import stats as st\n",
    "import math as mt\n",
    "import seaborn as sns"
   ]
  },
  {
   "cell_type": "markdown",
   "metadata": {
    "id": "4ysWWC5i0q00"
   },
   "source": [
    "## Cargar datos"
   ]
  },
  {
   "cell_type": "code",
   "execution_count": 72,
   "metadata": {
    "id": "CCqPW7rS0q01"
   },
   "outputs": [],
   "source": [
    "# Carga los archivos de datos en diferentes DataFrames\n",
    "\n",
    "df_calls = pd.read_csv('/datasets/megaline_calls.csv')\n",
    "df_internet = pd.read_csv('/datasets/megaline_internet.csv')\n",
    "df_messages = pd.read_csv('/datasets/megaline_messages.csv')\n",
    "df_plans = pd.read_csv('/datasets/megaline_plans.csv')\n",
    "df_users = pd.read_csv('/datasets/megaline_users.csv')"
   ]
  },
  {
   "cell_type": "markdown",
   "metadata": {
    "id": "69qqoJ3r0q01"
   },
   "source": [
    "## Preparar los datos"
   ]
  },
  {
   "cell_type": "markdown",
   "metadata": {
    "id": "vUuZw80S0q01"
   },
   "source": [
    "[Los datos para este proyecto se dividen en varias tablas. Explora cada una para tener una comprensión inicial de los datos. Si es necesario, haz las correcciones requeridas en cada tabla.]"
   ]
  },
  {
   "cell_type": "markdown",
   "metadata": {
    "id": "ohBhimvH0q01"
   },
   "source": [
    "## Tarifas"
   ]
  },
  {
   "cell_type": "code",
   "execution_count": 73,
   "metadata": {
    "id": "GptqP3Q40q02"
   },
   "outputs": [
    {
     "name": "stdout",
     "output_type": "stream",
     "text": [
      "<class 'pandas.core.frame.DataFrame'>\n",
      "RangeIndex: 2 entries, 0 to 1\n",
      "Data columns (total 8 columns):\n",
      " #   Column                 Non-Null Count  Dtype  \n",
      "---  ------                 --------------  -----  \n",
      " 0   messages_included      2 non-null      int64  \n",
      " 1   mb_per_month_included  2 non-null      int64  \n",
      " 2   minutes_included       2 non-null      int64  \n",
      " 3   usd_monthly_pay        2 non-null      int64  \n",
      " 4   usd_per_gb             2 non-null      int64  \n",
      " 5   usd_per_message        2 non-null      float64\n",
      " 6   usd_per_minute         2 non-null      float64\n",
      " 7   plan_name              2 non-null      object \n",
      "dtypes: float64(2), int64(5), object(1)\n",
      "memory usage: 256.0+ bytes\n",
      "None\n",
      "   messages_included  mb_per_month_included  minutes_included  \\\n",
      "0                 50                  15360               500   \n",
      "1               1000                  30720              3000   \n",
      "\n",
      "   usd_monthly_pay  usd_per_gb  usd_per_message  usd_per_minute plan_name  \n",
      "0               20          10             0.03            0.03      surf  \n",
      "1               70           7             0.01            0.01  ultimate  \n",
      "\n",
      "       messages_included  mb_per_month_included  minutes_included  \\\n",
      "count           2.000000               2.000000          2.000000   \n",
      "mean          525.000000           23040.000000       1750.000000   \n",
      "std           671.751442           10861.160159       1767.766953   \n",
      "min            50.000000           15360.000000        500.000000   \n",
      "25%           287.500000           19200.000000       1125.000000   \n",
      "50%           525.000000           23040.000000       1750.000000   \n",
      "75%           762.500000           26880.000000       2375.000000   \n",
      "max          1000.000000           30720.000000       3000.000000   \n",
      "\n",
      "       usd_monthly_pay  usd_per_gb  usd_per_message  usd_per_minute  \n",
      "count         2.000000     2.00000         2.000000        2.000000  \n",
      "mean         45.000000     8.50000         0.020000        0.020000  \n",
      "std          35.355339     2.12132         0.014142        0.014142  \n",
      "min          20.000000     7.00000         0.010000        0.010000  \n",
      "25%          32.500000     7.75000         0.015000        0.015000  \n",
      "50%          45.000000     8.50000         0.020000        0.020000  \n",
      "75%          57.500000     9.25000         0.025000        0.025000  \n",
      "max          70.000000    10.00000         0.030000        0.030000  \n"
     ]
    }
   ],
   "source": [
    "# Imprime la información general/resumida sobre el DataFrame de las tarifas\n",
    "print(df_plans.info())\n",
    "print(df_plans.head())\n",
    "print()\n",
    "print(df_plans.describe())"
   ]
  },
  {
   "cell_type": "code",
   "execution_count": 74,
   "metadata": {
    "id": "64xzjwL70q02"
   },
   "outputs": [
    {
     "data": {
      "text/html": [
       "<div>\n",
       "<style scoped>\n",
       "    .dataframe tbody tr th:only-of-type {\n",
       "        vertical-align: middle;\n",
       "    }\n",
       "\n",
       "    .dataframe tbody tr th {\n",
       "        vertical-align: top;\n",
       "    }\n",
       "\n",
       "    .dataframe thead th {\n",
       "        text-align: right;\n",
       "    }\n",
       "</style>\n",
       "<table border=\"1\" class=\"dataframe\">\n",
       "  <thead>\n",
       "    <tr style=\"text-align: right;\">\n",
       "      <th></th>\n",
       "      <th>messages_included</th>\n",
       "      <th>mb_per_month_included</th>\n",
       "      <th>minutes_included</th>\n",
       "      <th>usd_monthly_pay</th>\n",
       "      <th>usd_per_gb</th>\n",
       "      <th>usd_per_message</th>\n",
       "      <th>usd_per_minute</th>\n",
       "      <th>plan_name</th>\n",
       "    </tr>\n",
       "  </thead>\n",
       "  <tbody>\n",
       "    <tr>\n",
       "      <th>1</th>\n",
       "      <td>1000</td>\n",
       "      <td>30720</td>\n",
       "      <td>3000</td>\n",
       "      <td>70</td>\n",
       "      <td>7</td>\n",
       "      <td>0.01</td>\n",
       "      <td>0.01</td>\n",
       "      <td>ultimate</td>\n",
       "    </tr>\n",
       "  </tbody>\n",
       "</table>\n",
       "</div>"
      ],
      "text/plain": [
       "   messages_included  mb_per_month_included  minutes_included  \\\n",
       "1               1000                  30720              3000   \n",
       "\n",
       "   usd_monthly_pay  usd_per_gb  usd_per_message  usd_per_minute plan_name  \n",
       "1               70           7             0.01            0.01  ultimate  "
      ]
     },
     "execution_count": 74,
     "metadata": {},
     "output_type": "execute_result"
    }
   ],
   "source": [
    "# Imprime una muestra de los datos para las tarifas\n",
    "df_plans.sample()"
   ]
  },
  {
   "cell_type": "markdown",
   "metadata": {
    "id": "mEc_3_hs0q02"
   },
   "source": [
    "La tabla de tarifas o df_plans consta solo de dos líneas que corresponden a los dos planes que existen; surf y ultimate. Solamente debemos corregir el tipo de dato en las columnas correspondientes a USD para que todos estén en float y se pueda apreciar su valor exacto."
   ]
  },
  {
   "cell_type": "markdown",
   "metadata": {
    "id": "R3C05i1l0q03"
   },
   "source": [
    "## Corregir datos"
   ]
  },
  {
   "cell_type": "markdown",
   "metadata": {
    "id": "bIi8StZI0q03"
   },
   "source": [
    "[Corrige los problemas obvios con los datos basándote en las observaciones iniciales.]"
   ]
  },
  {
   "cell_type": "code",
   "execution_count": 75,
   "metadata": {
    "id": "Y7SVmjGn0q03"
   },
   "outputs": [
    {
     "name": "stdout",
     "output_type": "stream",
     "text": [
      "<class 'pandas.core.frame.DataFrame'>\n",
      "RangeIndex: 2 entries, 0 to 1\n",
      "Data columns (total 8 columns):\n",
      " #   Column                 Non-Null Count  Dtype  \n",
      "---  ------                 --------------  -----  \n",
      " 0   messages_included      2 non-null      int64  \n",
      " 1   mb_per_month_included  2 non-null      int64  \n",
      " 2   minutes_included       2 non-null      int64  \n",
      " 3   usd_monthly_pay        2 non-null      float64\n",
      " 4   usd_per_gb             2 non-null      float64\n",
      " 5   usd_per_message        2 non-null      float64\n",
      " 6   usd_per_minute         2 non-null      float64\n",
      " 7   plan_name              2 non-null      object \n",
      "dtypes: float64(4), int64(3), object(1)\n",
      "memory usage: 256.0+ bytes\n",
      "None\n",
      "\n",
      "   messages_included  mb_per_month_included  minutes_included  \\\n",
      "0                 50                  15360               500   \n",
      "1               1000                  30720              3000   \n",
      "\n",
      "   usd_monthly_pay  usd_per_gb  usd_per_message  usd_per_minute plan_name  \n",
      "0             20.0        10.0             0.03            0.03      surf  \n",
      "1             70.0         7.0             0.01            0.01  ultimate  \n"
     ]
    }
   ],
   "source": [
    "#Vamos a cambiar todos los valores en dolares a float por si tienen decimales sean más exactos:\n",
    "\n",
    "df_plans['usd_monthly_pay'] = df_plans['usd_monthly_pay'].astype(float)\n",
    "df_plans['usd_per_gb'] = df_plans['usd_per_gb'].astype(float)\n",
    "print(df_plans.info())\n",
    "print()\n",
    "print(df_plans.head())"
   ]
  },
  {
   "cell_type": "markdown",
   "metadata": {
    "id": "LJir7bml0q03"
   },
   "source": [
    "## Enriquecer los datos"
   ]
  },
  {
   "cell_type": "markdown",
   "metadata": {
    "id": "eqADpCfg0q04"
   },
   "source": []
  },
  {
   "cell_type": "code",
   "execution_count": 76,
   "metadata": {
    "id": "gfcIEuXV0q04"
   },
   "outputs": [],
   "source": [
    "# Vemos que esta tabla esta completa con la información que tiene."
   ]
  },
  {
   "cell_type": "markdown",
   "metadata": {
    "id": "1n2X6WXf0q04"
   },
   "source": [
    "## Usuarios/as"
   ]
  },
  {
   "cell_type": "code",
   "execution_count": 77,
   "metadata": {
    "id": "2NgjWFqx0q05"
   },
   "outputs": [
    {
     "name": "stdout",
     "output_type": "stream",
     "text": [
      "<class 'pandas.core.frame.DataFrame'>\n",
      "RangeIndex: 500 entries, 0 to 499\n",
      "Data columns (total 8 columns):\n",
      " #   Column      Non-Null Count  Dtype \n",
      "---  ------      --------------  ----- \n",
      " 0   user_id     500 non-null    int64 \n",
      " 1   first_name  500 non-null    object\n",
      " 2   last_name   500 non-null    object\n",
      " 3   age         500 non-null    int64 \n",
      " 4   city        500 non-null    object\n",
      " 5   reg_date    500 non-null    object\n",
      " 6   plan        500 non-null    object\n",
      " 7   churn_date  34 non-null     object\n",
      "dtypes: int64(2), object(6)\n",
      "memory usage: 31.4+ KB\n",
      "None\n",
      "\n",
      "   user_id first_name  last_name  age                                   city  \\\n",
      "0     1000   Anamaria      Bauer   45  Atlanta-Sandy Springs-Roswell, GA MSA   \n",
      "1     1001     Mickey  Wilkerson   28        Seattle-Tacoma-Bellevue, WA MSA   \n",
      "2     1002     Carlee    Hoffman   36   Las Vegas-Henderson-Paradise, NV MSA   \n",
      "3     1003   Reynaldo    Jenkins   52                          Tulsa, OK MSA   \n",
      "4     1004    Leonila   Thompson   40        Seattle-Tacoma-Bellevue, WA MSA   \n",
      "\n",
      "     reg_date      plan churn_date  \n",
      "0  2018-12-24  ultimate        NaN  \n",
      "1  2018-08-13      surf        NaN  \n",
      "2  2018-10-21      surf        NaN  \n",
      "3  2018-01-28      surf        NaN  \n",
      "4  2018-05-23      surf        NaN  \n"
     ]
    }
   ],
   "source": [
    "# Imprime la información general/resumida sobre el DataFrame de usuarios\n",
    "print(df_users.info())\n",
    "print()\n",
    "print(df_users.head())"
   ]
  },
  {
   "cell_type": "code",
   "execution_count": 78,
   "metadata": {
    "id": "1IN1L9uh0q05",
    "scrolled": true
   },
   "outputs": [
    {
     "data": {
      "text/html": [
       "<div>\n",
       "<style scoped>\n",
       "    .dataframe tbody tr th:only-of-type {\n",
       "        vertical-align: middle;\n",
       "    }\n",
       "\n",
       "    .dataframe tbody tr th {\n",
       "        vertical-align: top;\n",
       "    }\n",
       "\n",
       "    .dataframe thead th {\n",
       "        text-align: right;\n",
       "    }\n",
       "</style>\n",
       "<table border=\"1\" class=\"dataframe\">\n",
       "  <thead>\n",
       "    <tr style=\"text-align: right;\">\n",
       "      <th></th>\n",
       "      <th>user_id</th>\n",
       "      <th>first_name</th>\n",
       "      <th>last_name</th>\n",
       "      <th>age</th>\n",
       "      <th>city</th>\n",
       "      <th>reg_date</th>\n",
       "      <th>plan</th>\n",
       "      <th>churn_date</th>\n",
       "    </tr>\n",
       "  </thead>\n",
       "  <tbody>\n",
       "    <tr>\n",
       "      <th>160</th>\n",
       "      <td>1160</td>\n",
       "      <td>Steven</td>\n",
       "      <td>Morgan</td>\n",
       "      <td>44</td>\n",
       "      <td>Portland-Vancouver-Hillsboro, OR-WA MSA</td>\n",
       "      <td>2018-02-05</td>\n",
       "      <td>surf</td>\n",
       "      <td>NaN</td>\n",
       "    </tr>\n",
       "    <tr>\n",
       "      <th>408</th>\n",
       "      <td>1408</td>\n",
       "      <td>Alaine</td>\n",
       "      <td>Robertson</td>\n",
       "      <td>40</td>\n",
       "      <td>Baltimore-Columbia-Towson, MD MSA</td>\n",
       "      <td>2018-01-11</td>\n",
       "      <td>surf</td>\n",
       "      <td>NaN</td>\n",
       "    </tr>\n",
       "    <tr>\n",
       "      <th>189</th>\n",
       "      <td>1189</td>\n",
       "      <td>Terrence</td>\n",
       "      <td>Smith</td>\n",
       "      <td>75</td>\n",
       "      <td>Columbus, OH MSA</td>\n",
       "      <td>2018-09-24</td>\n",
       "      <td>surf</td>\n",
       "      <td>NaN</td>\n",
       "    </tr>\n",
       "    <tr>\n",
       "      <th>132</th>\n",
       "      <td>1132</td>\n",
       "      <td>Edward</td>\n",
       "      <td>Roberts</td>\n",
       "      <td>39</td>\n",
       "      <td>San Francisco-Oakland-Berkeley, CA MSA</td>\n",
       "      <td>2018-04-14</td>\n",
       "      <td>ultimate</td>\n",
       "      <td>NaN</td>\n",
       "    </tr>\n",
       "    <tr>\n",
       "      <th>183</th>\n",
       "      <td>1183</td>\n",
       "      <td>Jermaine</td>\n",
       "      <td>Gallegos</td>\n",
       "      <td>71</td>\n",
       "      <td>Chicago-Naperville-Elgin, IL-IN-WI MSA</td>\n",
       "      <td>2018-07-20</td>\n",
       "      <td>surf</td>\n",
       "      <td>NaN</td>\n",
       "    </tr>\n",
       "  </tbody>\n",
       "</table>\n",
       "</div>"
      ],
      "text/plain": [
       "     user_id first_name  last_name  age  \\\n",
       "160     1160     Steven     Morgan   44   \n",
       "408     1408     Alaine  Robertson   40   \n",
       "189     1189   Terrence      Smith   75   \n",
       "132     1132     Edward    Roberts   39   \n",
       "183     1183   Jermaine   Gallegos   71   \n",
       "\n",
       "                                        city    reg_date      plan churn_date  \n",
       "160  Portland-Vancouver-Hillsboro, OR-WA MSA  2018-02-05      surf        NaN  \n",
       "408        Baltimore-Columbia-Towson, MD MSA  2018-01-11      surf        NaN  \n",
       "189                         Columbus, OH MSA  2018-09-24      surf        NaN  \n",
       "132   San Francisco-Oakland-Berkeley, CA MSA  2018-04-14  ultimate        NaN  \n",
       "183   Chicago-Naperville-Elgin, IL-IN-WI MSA  2018-07-20      surf        NaN  "
      ]
     },
     "execution_count": 78,
     "metadata": {},
     "output_type": "execute_result"
    }
   ],
   "source": [
    "# Imprime una muestra de datos para usuarios\n",
    "df_users.sample(5)\n"
   ]
  },
  {
   "cell_type": "markdown",
   "metadata": {
    "id": "dCZoUq4f0q06"
   },
   "source": [
    "Vemos que tenemos de 500 líneas correspondientes a los datos de 500 usuarios con 8 columnas. La columna de churn_date (fecha de abandono) tiene valores ausentes, solo 35 de las 500 líneas tiene información por lo que usaremos la función fillna para poder completar la columna."
   ]
  },
  {
   "cell_type": "markdown",
   "metadata": {
    "id": "BX5FQh_I0q06"
   },
   "source": [
    "### Corregir los datos"
   ]
  },
  {
   "cell_type": "markdown",
   "metadata": {
    "id": "8OdKMwJv0q06"
   },
   "source": [
    "Vamos a usar fillna para completar la información en la columna 'churn_date' que es donde tenemos valores ausentes."
   ]
  },
  {
   "cell_type": "code",
   "execution_count": 79,
   "metadata": {
    "id": "yUqX-K0C0q07"
   },
   "outputs": [
    {
     "name": "stdout",
     "output_type": "stream",
     "text": [
      "     user_id first_name last_name  age  \\\n",
      "80      1080       Neal     Mcgee   45   \n",
      "183     1183   Jermaine  Gallegos   71   \n",
      "405     1405     Shella    Hunter   34   \n",
      "62      1062   Kristeen      Head   41   \n",
      "76      1076      Ronny  Browning   51   \n",
      "\n",
      "                                          city    reg_date      plan  \\\n",
      "80   New York-Newark-Jersey City, NY-NJ-PA MSA  2018-08-03      surf   \n",
      "183     Chicago-Naperville-Elgin, IL-IN-WI MSA  2018-07-20      surf   \n",
      "405       Indianapolis-Carmel-Anderson, IN MSA  2018-06-22  ultimate   \n",
      "62           San Antonio-New Braunfels, TX MSA  2018-02-06  ultimate   \n",
      "76                 Buffalo-Cheektowaga, NY MSA  2018-07-29      surf   \n",
      "\n",
      "    churn_date  \n",
      "80           0  \n",
      "183          0  \n",
      "405          0  \n",
      "62           0  \n",
      "76           0  \n"
     ]
    }
   ],
   "source": [
    "df_users['churn_date'] = df_users['churn_date'].fillna(0)\n",
    "print(df_users.sample(5))"
   ]
  },
  {
   "cell_type": "markdown",
   "metadata": {
    "id": "ycwuARJp0q07"
   },
   "source": [
    "### Enriquecer los datos"
   ]
  },
  {
   "cell_type": "markdown",
   "metadata": {
    "id": "96NIh4CJ0q08"
   },
   "source": []
  },
  {
   "cell_type": "code",
   "execution_count": 80,
   "metadata": {
    "id": "iq0AaBS90q08"
   },
   "outputs": [],
   "source": [
    "#Por el momento podemos dejar la tabla de usuarios con la información que contiene."
   ]
  },
  {
   "cell_type": "markdown",
   "metadata": {
    "id": "o7MeKCid0q08"
   },
   "source": [
    "## Llamadas"
   ]
  },
  {
   "cell_type": "code",
   "execution_count": 81,
   "metadata": {
    "id": "6dDlnoDm0q08"
   },
   "outputs": [
    {
     "name": "stdout",
     "output_type": "stream",
     "text": [
      "<class 'pandas.core.frame.DataFrame'>\n",
      "RangeIndex: 137735 entries, 0 to 137734\n",
      "Data columns (total 4 columns):\n",
      " #   Column     Non-Null Count   Dtype  \n",
      "---  ------     --------------   -----  \n",
      " 0   id         137735 non-null  object \n",
      " 1   user_id    137735 non-null  int64  \n",
      " 2   call_date  137735 non-null  object \n",
      " 3   duration   137735 non-null  float64\n",
      "dtypes: float64(1), int64(1), object(2)\n",
      "memory usage: 4.2+ MB\n",
      "\n",
      "         id  user_id   call_date  duration\n",
      "0   1000_93     1000  2018-12-27      8.52\n",
      "1  1000_145     1000  2018-12-27     13.66\n",
      "2  1000_247     1000  2018-12-27     14.48\n",
      "3  1000_309     1000  2018-12-28      5.76\n",
      "4  1000_380     1000  2018-12-30      4.22\n"
     ]
    }
   ],
   "source": [
    "# Imprime la información general/resumida sobre el DataFrame de las llamadas\n",
    "df_calls.info()\n",
    "print()\n",
    "print(df_calls.head())"
   ]
  },
  {
   "cell_type": "code",
   "execution_count": 82,
   "metadata": {
    "id": "kuh1vlNB0q09"
   },
   "outputs": [
    {
     "name": "stdout",
     "output_type": "stream",
     "text": [
      "              id  user_id   call_date  duration\n",
      "91052   1328_682     1328  2018-10-01     16.00\n",
      "6908     1032_58     1032  2018-12-20     11.54\n",
      "82728   1299_386     1299  2018-07-30     10.81\n",
      "122473   1433_44     1433  2018-09-26      9.85\n",
      "97944    1352_82     1352  2018-12-16      7.18\n"
     ]
    }
   ],
   "source": [
    "# Imprime una muestra de datos para las llamadas\n",
    "print(df_calls.sample(5))"
   ]
  },
  {
   "cell_type": "markdown",
   "metadata": {
    "id": "DOAxYJSx0q09"
   },
   "source": [
    "[Describe lo que ves y observas en la información general y en la muestra de datos impresa para el precio de datos anterior. ¿Hay algún problema (tipos de datos no adecuados, datos ausentes, etc.) que pudieran necesitar investigación y cambios adicionales? ¿Cómo se puede arreglar?]\n",
    "\n",
    "#Debemos cambiar el formato de la columna \"call_date\" en lugar de objet debe ser datetime."
   ]
  },
  {
   "cell_type": "markdown",
   "metadata": {
    "id": "S7hzxmbX0q0-"
   },
   "source": [
    "### Corregir los datos"
   ]
  },
  {
   "cell_type": "markdown",
   "metadata": {
    "id": "YxWyAjD20q0-"
   },
   "source": [
    "Corregimos el tipo de dato de la fecha."
   ]
  },
  {
   "cell_type": "code",
   "execution_count": 83,
   "metadata": {
    "id": "S2r8xA4f0q0-"
   },
   "outputs": [
    {
     "name": "stdout",
     "output_type": "stream",
     "text": [
      "<class 'pandas.core.frame.DataFrame'>\n",
      "RangeIndex: 137735 entries, 0 to 137734\n",
      "Data columns (total 4 columns):\n",
      " #   Column     Non-Null Count   Dtype         \n",
      "---  ------     --------------   -----         \n",
      " 0   id         137735 non-null  object        \n",
      " 1   user_id    137735 non-null  int64         \n",
      " 2   call_date  137735 non-null  datetime64[ns]\n",
      " 3   duration   137735 non-null  float64       \n",
      "dtypes: datetime64[ns](1), float64(1), int64(1), object(1)\n",
      "memory usage: 4.2+ MB\n",
      "None\n",
      "\n",
      "              id  user_id  call_date  duration\n",
      "81568   1293_780     1293 2018-11-07      5.65\n",
      "89823   1326_474     1326 2018-11-22     13.48\n",
      "105155  1370_333     1370 2018-12-18      5.99\n",
      "56922   1203_313     1203 2018-08-28      3.65\n",
      "93456   1334_824     1334 2018-06-18      0.00\n"
     ]
    }
   ],
   "source": [
    "df_calls['call_date'] = pd.to_datetime(df_calls['call_date']) \n",
    "print(df_calls.info())\n",
    "print()\n",
    "print(df_calls.sample(5))"
   ]
  },
  {
   "cell_type": "markdown",
   "metadata": {
    "id": "KrMgTrlG0q0_"
   },
   "source": [
    "### Enriquecer los datos"
   ]
  },
  {
   "cell_type": "markdown",
   "metadata": {
    "id": "a9MbmEvE0q0_"
   },
   "source": [
    "Enriquecemos la tabla df_call con la información de los usuarios y agregando una columna donde se indique el mes de la llamada."
   ]
  },
  {
   "cell_type": "code",
   "execution_count": 84,
   "metadata": {
    "id": "iZ1avpA_0q0_",
    "scrolled": true
   },
   "outputs": [
    {
     "name": "stdout",
     "output_type": "stream",
     "text": [
      "   user_id        id  call_date  month  duration first_name last_name  age  \\\n",
      "0     1000   1000_93 2018-12-27     12      8.52   Anamaria     Bauer   45   \n",
      "1     1000  1000_145 2018-12-27     12     13.66   Anamaria     Bauer   45   \n",
      "2     1000  1000_247 2018-12-27     12     14.48   Anamaria     Bauer   45   \n",
      "3     1000  1000_309 2018-12-28     12      5.76   Anamaria     Bauer   45   \n",
      "4     1000  1000_380 2018-12-30     12      4.22   Anamaria     Bauer   45   \n",
      "\n",
      "       plan  \n",
      "0  ultimate  \n",
      "1  ultimate  \n",
      "2  ultimate  \n",
      "3  ultimate  \n",
      "4  ultimate  \n"
     ]
    }
   ],
   "source": [
    "df_calls['month'] = df_calls['call_date'].dt.month\n",
    "df_calls_with_user = pd.merge(df_calls[['user_id','id','call_date','month','duration']], df_users[['user_id', 'first_name','last_name', 'age', 'plan']], on='user_id')\n",
    "print(df_calls_with_user.head(5))"
   ]
  },
  {
   "cell_type": "markdown",
   "metadata": {
    "id": "mOUZSi180q0_"
   },
   "source": [
    "## Mensajes"
   ]
  },
  {
   "cell_type": "code",
   "execution_count": 85,
   "metadata": {
    "id": "R-bYJpdV0q1A"
   },
   "outputs": [
    {
     "name": "stdout",
     "output_type": "stream",
     "text": [
      "<class 'pandas.core.frame.DataFrame'>\n",
      "RangeIndex: 76051 entries, 0 to 76050\n",
      "Data columns (total 3 columns):\n",
      " #   Column        Non-Null Count  Dtype \n",
      "---  ------        --------------  ----- \n",
      " 0   id            76051 non-null  object\n",
      " 1   user_id       76051 non-null  int64 \n",
      " 2   message_date  76051 non-null  object\n",
      "dtypes: int64(1), object(2)\n",
      "memory usage: 1.7+ MB\n",
      "None\n",
      "\n",
      "         id  user_id message_date\n",
      "0  1000_125     1000   2018-12-27\n",
      "1  1000_160     1000   2018-12-31\n",
      "2  1000_223     1000   2018-12-31\n",
      "3  1000_251     1000   2018-12-27\n",
      "4  1000_255     1000   2018-12-26\n"
     ]
    }
   ],
   "source": [
    "# Imprime la información general/resumida sobre el DataFrame de los mensajes\n",
    "print(df_messages.info())\n",
    "print()\n",
    "print(df_messages.head())\n"
   ]
  },
  {
   "cell_type": "code",
   "execution_count": 86,
   "metadata": {
    "id": "mCEl2iGE0q1A"
   },
   "outputs": [
    {
     "name": "stdout",
     "output_type": "stream",
     "text": [
      "             id  user_id message_date\n",
      "15173  1101_230     1101   2018-08-13\n",
      "34334  1215_248     1215   2018-10-29\n",
      "51344   1334_62     1334   2018-05-25\n",
      "8512   1061_518     1061   2018-06-25\n",
      "15675   1103_39     1103   2018-11-19\n"
     ]
    }
   ],
   "source": [
    "# Imprime una muestra de datos para los mensajes\n",
    "print(df_messages.sample(5))\n"
   ]
  },
  {
   "cell_type": "markdown",
   "metadata": {
    "id": "04xDj7KH0q1A"
   },
   "source": [
    "[Describe lo que ves y observas en la información general y en la muestra de datos impresa para el precio de datos anterior. ¿Hay algún problema (tipos de datos no adecuados, datos ausentes, etc.) que pudieran necesitar investigación y cambios adicionales? ¿Cómo se puede arreglar?]"
   ]
  },
  {
   "cell_type": "markdown",
   "metadata": {
    "id": "Sprfak900q1B"
   },
   "source": [
    "### Corregir los datos"
   ]
  },
  {
   "cell_type": "markdown",
   "metadata": {
    "id": "eGw7d9j10q1B"
   },
   "source": [
    "Corregimos el tipo de dato de la fecha."
   ]
  },
  {
   "cell_type": "code",
   "execution_count": 87,
   "metadata": {
    "id": "vsllvkoa0q1B",
    "scrolled": true
   },
   "outputs": [
    {
     "name": "stdout",
     "output_type": "stream",
     "text": [
      "<class 'pandas.core.frame.DataFrame'>\n",
      "RangeIndex: 76051 entries, 0 to 76050\n",
      "Data columns (total 3 columns):\n",
      " #   Column        Non-Null Count  Dtype         \n",
      "---  ------        --------------  -----         \n",
      " 0   id            76051 non-null  object        \n",
      " 1   user_id       76051 non-null  int64         \n",
      " 2   message_date  76051 non-null  datetime64[ns]\n",
      "dtypes: datetime64[ns](1), int64(1), object(1)\n",
      "memory usage: 1.7+ MB\n"
     ]
    }
   ],
   "source": [
    "df_messages['message_date'] = pd.to_datetime(df_messages['message_date'])\n",
    "df_messages.info()"
   ]
  },
  {
   "cell_type": "markdown",
   "metadata": {
    "id": "HvLid7iD0q1B"
   },
   "source": [
    "### Enriquecer los datos"
   ]
  },
  {
   "cell_type": "markdown",
   "metadata": {
    "id": "8nhPFKIe0q1C"
   },
   "source": [
    "Complementamos información de la tabla de mensajes con la tabla de usuarios y creamos la columna month con la fecha en que se envío el mensaje."
   ]
  },
  {
   "cell_type": "code",
   "execution_count": 88,
   "metadata": {
    "id": "zYEXZac10q1C"
   },
   "outputs": [
    {
     "name": "stdout",
     "output_type": "stream",
     "text": [
      "   user_id        id message_date  month first_name last_name  age      plan\n",
      "0     1000  1000_125   2018-12-27     12   Anamaria     Bauer   45  ultimate\n",
      "1     1000  1000_160   2018-12-31     12   Anamaria     Bauer   45  ultimate\n",
      "2     1000  1000_223   2018-12-31     12   Anamaria     Bauer   45  ultimate\n",
      "3     1000  1000_251   2018-12-27     12   Anamaria     Bauer   45  ultimate\n",
      "4     1000  1000_255   2018-12-26     12   Anamaria     Bauer   45  ultimate\n"
     ]
    }
   ],
   "source": [
    "df_messages['month'] = df_messages['message_date'].dt.month\n",
    "df_messages_with_user = pd.merge(df_messages[['user_id','id','message_date','month']], df_users[['user_id', 'first_name','last_name', 'age', 'plan']], on='user_id')\n",
    "print(df_messages_with_user.head(5))"
   ]
  },
  {
   "cell_type": "markdown",
   "metadata": {
    "id": "bStkaxn40q1C"
   },
   "source": [
    "## Internet"
   ]
  },
  {
   "cell_type": "code",
   "execution_count": 89,
   "metadata": {
    "id": "e-Uz5qyn0q1C"
   },
   "outputs": [
    {
     "name": "stdout",
     "output_type": "stream",
     "text": [
      "<class 'pandas.core.frame.DataFrame'>\n",
      "RangeIndex: 104825 entries, 0 to 104824\n",
      "Data columns (total 4 columns):\n",
      " #   Column        Non-Null Count   Dtype  \n",
      "---  ------        --------------   -----  \n",
      " 0   id            104825 non-null  object \n",
      " 1   user_id       104825 non-null  int64  \n",
      " 2   session_date  104825 non-null  object \n",
      " 3   mb_used       104825 non-null  float64\n",
      "dtypes: float64(1), int64(1), object(2)\n",
      "memory usage: 3.2+ MB\n",
      "None\n",
      "\n",
      "         id  user_id session_date  mb_used\n",
      "0   1000_13     1000   2018-12-29    89.86\n",
      "1  1000_204     1000   2018-12-31     0.00\n",
      "2  1000_379     1000   2018-12-28   660.40\n",
      "3  1000_413     1000   2018-12-26   270.99\n",
      "4  1000_442     1000   2018-12-27   880.22\n"
     ]
    }
   ],
   "source": [
    "# Imprime la información general/resumida sobre el DataFrame de internet\n",
    "print(df_internet.info())\n",
    "print()\n",
    "print(df_internet.head())"
   ]
  },
  {
   "cell_type": "code",
   "execution_count": 90,
   "metadata": {
    "id": "9r3x_XLw0q1C"
   },
   "outputs": [
    {
     "name": "stdout",
     "output_type": "stream",
     "text": [
      "              id  user_id session_date  mb_used\n",
      "93427   1435_193     1435   2018-10-16   561.66\n",
      "102846   1492_79     1492   2018-12-14   359.98\n",
      "11814   1057_154     1057   2018-12-12  1309.96\n",
      "56824    1257_91     1257   2018-06-19   473.43\n",
      "9        1001_15     1001   2018-12-13   761.92\n"
     ]
    }
   ],
   "source": [
    "# Imprime una muestra de datos para el tráfico de internet\n",
    "print(df_internet.sample(5))"
   ]
  },
  {
   "cell_type": "markdown",
   "metadata": {
    "id": "EzOG5ik30q1D"
   },
   "source": [
    "[Describe lo que ves y observas en la información general y en la muestra de datos impresa para el precio de datos anterior. ¿Hay algún problema (tipos de datos no adecuados, datos ausentes, etc.) que pudieran necesitar investigación y cambios adicionales? ¿Cómo se puede arreglar?]"
   ]
  },
  {
   "cell_type": "markdown",
   "metadata": {
    "id": "yA0tkPFg0q1D"
   },
   "source": [
    "### Corregir los datos"
   ]
  },
  {
   "cell_type": "markdown",
   "metadata": {
    "id": "zlZMuIEK0q1D"
   },
   "source": [
    "Corregimos el tipo de dato de la fecha."
   ]
  },
  {
   "cell_type": "code",
   "execution_count": 91,
   "metadata": {
    "id": "zVeanzdd0q1E",
    "scrolled": true
   },
   "outputs": [
    {
     "name": "stdout",
     "output_type": "stream",
     "text": [
      "<class 'pandas.core.frame.DataFrame'>\n",
      "RangeIndex: 104825 entries, 0 to 104824\n",
      "Data columns (total 4 columns):\n",
      " #   Column        Non-Null Count   Dtype         \n",
      "---  ------        --------------   -----         \n",
      " 0   id            104825 non-null  object        \n",
      " 1   user_id       104825 non-null  int64         \n",
      " 2   session_date  104825 non-null  datetime64[ns]\n",
      " 3   mb_used       104825 non-null  float64       \n",
      "dtypes: datetime64[ns](1), float64(1), int64(1), object(1)\n",
      "memory usage: 3.2+ MB\n"
     ]
    }
   ],
   "source": [
    "df_internet['session_date'] = pd.to_datetime(df_internet['session_date'])\n",
    "df_internet.info()"
   ]
  },
  {
   "cell_type": "markdown",
   "metadata": {
    "id": "e8_mLF4a0q1E"
   },
   "source": [
    "### Enriquecer los datos"
   ]
  },
  {
   "cell_type": "markdown",
   "metadata": {
    "id": "xhNdn2tE0q1E"
   },
   "source": [
    "Agreamos información de los usuarios a la tabla de internet y creamos la columna month."
   ]
  },
  {
   "cell_type": "code",
   "execution_count": 92,
   "metadata": {
    "id": "ESiYPIEK0q1E"
   },
   "outputs": [
    {
     "name": "stdout",
     "output_type": "stream",
     "text": [
      "   user_id        id session_date  month  mb_used first_name last_name  age  \\\n",
      "0     1000   1000_13   2018-12-29     12    89.86   Anamaria     Bauer   45   \n",
      "1     1000  1000_204   2018-12-31     12     0.00   Anamaria     Bauer   45   \n",
      "2     1000  1000_379   2018-12-28     12   660.40   Anamaria     Bauer   45   \n",
      "3     1000  1000_413   2018-12-26     12   270.99   Anamaria     Bauer   45   \n",
      "4     1000  1000_442   2018-12-27     12   880.22   Anamaria     Bauer   45   \n",
      "\n",
      "       plan  \n",
      "0  ultimate  \n",
      "1  ultimate  \n",
      "2  ultimate  \n",
      "3  ultimate  \n",
      "4  ultimate  \n"
     ]
    }
   ],
   "source": [
    "df_internet['month'] = df_internet['session_date'].dt.month\n",
    "df_internet_with_user = pd.merge(df_internet[['user_id','id','session_date','month','mb_used']], df_users[['user_id', 'first_name','last_name', 'age', 'plan']], on='user_id')\n",
    "print(df_internet_with_user.head(5))"
   ]
  },
  {
   "cell_type": "markdown",
   "metadata": {},
   "source": [
    "<div class=\"alert alert-block alert-success\"> <b>Comentario del revisor</b> <a class=\"tocSkip\"></a><br>\n",
    "\n",
    "Has realizado un excelente trabajo en la preparación de los datos. Se observa una organización clara y una estructura coherente en cada paso, desde la importación y corrección de los datos hasta su enriquecimiento. Es positivo que hayas identificado las columnas que necesitaban ajustes en el tipo de dato, como en las fechas y valores monetarios, asegurando precisión en las siguientes etapas del análisis.\n",
    "</div>"
   ]
  },
  {
   "cell_type": "markdown",
   "metadata": {
    "id": "3UA2cqIW0q1E"
   },
   "source": [
    "## Estudiar las condiciones de las tarifas"
   ]
  },
  {
   "cell_type": "markdown",
   "metadata": {
    "id": "T86Sqltq0q1F"
   },
   "source": [
    "[Es sumamente importante entender cómo funcionan las tarifas, cómo se les cobra a los usuarios en función de su plan de suscripción. Así que te sugerimos imprimir la información de la tarifa para ver una vez más sus condiciones.]"
   ]
  },
  {
   "cell_type": "code",
   "execution_count": 93,
   "metadata": {
    "id": "i409op8p0q1F"
   },
   "outputs": [
    {
     "name": "stdout",
     "output_type": "stream",
     "text": [
      "   messages_included  mb_per_month_included  minutes_included  \\\n",
      "0                 50                  15360               500   \n",
      "1               1000                  30720              3000   \n",
      "\n",
      "   usd_monthly_pay  usd_per_gb  usd_per_message  usd_per_minute plan_name  \n",
      "0             20.0        10.0             0.03            0.03      surf  \n",
      "1             70.0         7.0             0.01            0.01  ultimate  \n",
      "\n",
      "Descripción de tarifa Surf\n",
      "Pago mensual: $20\n",
      "500 minutos al mes, 50 SMS y 15 GB de datos\n",
      "Si se exceden los límites del paquete:\n",
      "minuto: 3 centavos.\n",
      "SMS: 3 centavos.\n",
      "GB de datos: $10\n",
      "\n",
      "Descripción de tarifa Ultimate\n",
      "Pago mensual: $70.\n",
      "3000 minutos al mes, 1000 SMS y 30 GB de datos.\n",
      "Si se exceden los límites del paquete:\n",
      "minuto: 1 centavo.\n",
      "SMS: 1 centavo.\n",
      "GB de datos: $7.\n"
     ]
    }
   ],
   "source": [
    "# Imprime las condiciones de la tarifa y asegúrate de que te quedan claras\n",
    "print(df_plans)\n",
    "print()\n",
    "print(\"Descripción de tarifa Surf\")\n",
    "print(\"Pago mensual: $20\") \n",
    "print(\"500 minutos al mes, 50 SMS y 15 GB de datos\")\n",
    "print(\"Si se exceden los límites del paquete:\")\n",
    "print(\"minuto: 3 centavos.\")\n",
    "print(\"SMS: 3 centavos.\")\n",
    "print(\"GB de datos: $10\")\n",
    "print()\n",
    "print(\"Descripción de tarifa Ultimate\")\n",
    "print(\"Pago mensual: $70.\")\n",
    "print(\"3000 minutos al mes, 1000 SMS y 30 GB de datos.\")\n",
    "print(\"Si se exceden los límites del paquete:\")\n",
    "print(\"minuto: 1 centavo.\")\n",
    "print(\"SMS: 1 centavo.\")\n",
    "print(\"GB de datos: $7.\")"
   ]
  },
  {
   "cell_type": "markdown",
   "metadata": {
    "id": "hMR1tP5d0q1F"
   },
   "source": [
    "## Agregar datos por usuario\n",
    "\n",
    "[Ahora que los datos están limpios, agrega los datos por usuario y por periodo para que solo haya un registro por usuario y por periodo. Esto facilitará mucho el análisis posterior.]"
   ]
  },
  {
   "cell_type": "code",
   "execution_count": 94,
   "metadata": {
    "id": "A332cedB0q1G"
   },
   "outputs": [
    {
     "name": "stdout",
     "output_type": "stream",
     "text": [
      "      user_id  month  duration\n",
      "2082     1460      5         8\n",
      "303      1066      8        49\n",
      "969      1209      9       105\n",
      "2021     1442     12        40\n",
      "1750     1385      5        68\n"
     ]
    }
   ],
   "source": [
    "# Calcula el número de llamadas hechas por cada usuario al mes. Guarda el resultado.\n",
    "\n",
    "# Vamos a agrupar por la tabla de calls por user_id y month por la columna duration con la función count para que cuente las llamadas.\n",
    "\n",
    "df_calls_per_user = df_calls.groupby(['user_id', 'month'])['duration'].count().reset_index()\n",
    "print(df_calls_per_user.sample(5))"
   ]
  },
  {
   "cell_type": "code",
   "execution_count": 95,
   "metadata": {
    "id": "aw2cmuql0q1G"
   },
   "outputs": [
    {
     "name": "stdout",
     "output_type": "stream",
     "text": [
      "      user_id  month  duration\n",
      "1416     1316      5     39.91\n",
      "1061     1231     10    510.45\n",
      "1417     1316      6    148.75\n",
      "2199     1489      9    298.31\n",
      "352      1075     11    111.28\n"
     ]
    }
   ],
   "source": [
    "# Calcula la cantidad de minutos usados por cada usuario al mes. Guarda el resultado.\n",
    "# Vamos a agrupar por la tabla de calls por user_id y month por la columna duration con la función sum para que cuente la duración de las llamadas.\n",
    "df_calls_duration_per_user = df_calls.groupby(['user_id','month'])['duration'].sum().reset_index()\n",
    "print(df_calls_duration_per_user.sample(5))"
   ]
  },
  {
   "cell_type": "code",
   "execution_count": 96,
   "metadata": {
    "id": "CcQvNHn60q1G"
   },
   "outputs": [
    {
     "name": "stdout",
     "output_type": "stream",
     "text": [
      "   user_id  month  message_date\n",
      "0     1000     12            11\n",
      "1     1001      8            30\n",
      "2     1001      9            44\n",
      "3     1001     10            53\n",
      "4     1001     11            36\n"
     ]
    }
   ],
   "source": [
    "# Calcula el número de mensajes enviados por cada usuario al mes. Guarda el resultado.\n",
    "# Vamos a agrupar por la tabla de calls por user_id y month por la columna message_date con la función count para que cuente los mensajes.\n",
    "df_messages_per_user = df_messages.groupby(['user_id','month'])['message_date'].count().reset_index()\n",
    "print(df_messages_per_user.head(5))"
   ]
  },
  {
   "cell_type": "code",
   "execution_count": 97,
   "metadata": {
    "id": "H1AqN2eG0q1H"
   },
   "outputs": [
    {
     "name": "stdout",
     "output_type": "stream",
     "text": [
      "   user_id  month   mb_used\n",
      "0     1000     12   1901.47\n",
      "1     1001      8   6919.15\n",
      "2     1001      9  13314.82\n",
      "3     1001     10  22330.49\n",
      "4     1001     11  18504.30\n"
     ]
    }
   ],
   "source": [
    "# Calcula el volumen del tráfico de Internet usado por cada usuario al mes. Guarda el resultado.\n",
    "# Vamos a agrupar por la tabla de calls por user_id y month por la columna mb_used con la función sum para que cuente los mb usados.\n",
    "df_internet_per_user = df_internet.groupby(['user_id','month'])['mb_used'].sum().reset_index()\n",
    "print(df_internet_per_user.head(5))"
   ]
  },
  {
   "cell_type": "markdown",
   "metadata": {
    "id": "VDfYXnj80q1H"
   },
   "source": [
    "[Junta los datos agregados en un DataFrame para que haya un registro que represente lo que consumió un usuario único en un mes determinado.]"
   ]
  },
  {
   "cell_type": "code",
   "execution_count": 98,
   "metadata": {
    "id": "FW99ykyf0q1H"
   },
   "outputs": [
    {
     "name": "stdout",
     "output_type": "stream",
     "text": [
      "   user_id  month  num_of_calls  num_of_messages   mb_used  total_minutes\n",
      "0     1000     12          16.0             11.0   1901.47         116.83\n",
      "1     1001      8          27.0             30.0   6919.15         171.14\n",
      "2     1001      9          49.0             44.0  13314.82         297.69\n",
      "3     1001     10          65.0             53.0  22330.49         374.11\n",
      "4     1001     11          64.0             36.0  18504.30         404.59\n"
     ]
    }
   ],
   "source": [
    "# Fusiona los datos de llamadas, minutos, mensajes e Internet con base en user_id y month\n",
    "# Usamos merge para juntar todos los data frames tomando como referencia el user_id y el mes\n",
    "df_monthly_consumption = pd.merge(df_calls_per_user, df_messages_per_user, on=['user_id', 'month'], how='outer')\n",
    "df_monthly_consumption = pd.merge(df_monthly_consumption, df_internet_per_user, on=['user_id', 'month'], how='outer')\n",
    "df_monthly_consumption = pd.merge(df_monthly_consumption, df_calls_duration_per_user, on=['user_id', 'month'], how='outer')\n",
    "#cambiamos el nombre de las columnas que salen genericas por el nombre correcto.\n",
    "df_monthly_consumption = df_monthly_consumption.rename(columns= {\n",
    "    'duration_x' : 'num_of_calls',\n",
    "    'message_date' : 'num_of_messages',\n",
    "    'mb_used' : 'mb_used',\n",
    "    'duration_y' : 'total_minutes',\n",
    "})\n",
    "print(df_monthly_consumption.head(5))\n"
   ]
  },
  {
   "cell_type": "code",
   "execution_count": 99,
   "metadata": {
    "id": "0dNOXHag0q1H"
   },
   "outputs": [
    {
     "name": "stdout",
     "output_type": "stream",
     "text": [
      "   user_id  month  num_of_calls  num_of_messages   mb_used  total_minutes  \\\n",
      "0     1000     12          16.0             11.0   1901.47         116.83   \n",
      "1     1006     11           2.0             15.0   2068.37           9.32   \n",
      "2     1006     12           9.0            139.0  32118.82          54.79   \n",
      "3     1008     10          71.0             21.0  17106.99         450.21   \n",
      "4     1008     11          63.0             37.0  23676.72         422.81   \n",
      "\n",
      "       plan  usd_monthly_pay  \n",
      "0  ultimate             70.0  \n",
      "1  ultimate             70.0  \n",
      "2  ultimate             70.0  \n",
      "3  ultimate             70.0  \n",
      "4  ultimate             70.0  \n"
     ]
    }
   ],
   "source": [
    "# Añade la información de la tarifa\n",
    "# Agregamos la información del data frame plan mediante merge tomando como referencia el user_id y el nombre del plan (tuvimos que cambiar el nombre de la columna)\n",
    "df_plans = df_plans.rename(columns={'plan_name': 'plan'})\n",
    "df_monthly_consumption = pd.merge(df_monthly_consumption, df_users[['user_id', 'plan']], on='user_id')\n",
    "df_monthly_consumption = pd.merge(df_monthly_consumption, df_plans[['plan', 'usd_monthly_pay']], on='plan')\n",
    "print(df_monthly_consumption.head(5))"
   ]
  },
  {
   "cell_type": "markdown",
   "metadata": {
    "id": "1IwGo4wg0q1I"
   },
   "source": [
    "[Calcula los ingresos mensuales por usuario (resta el límite del paquete gratuito del número total de llamadas, mensajes de texto y datos; multiplica el resultado por el valor del plan de llamadas; añade la tarifa mensual en función del plan de llamadas). Nota: Dadas las condiciones del plan, ¡esto podría no ser tan trivial como un par de líneas! Así que no pasa nada si dedicas algo de tiempo a ello.]"
   ]
  },
  {
   "cell_type": "code",
   "execution_count": 100,
   "metadata": {
    "id": "5FGCf_c60q1I"
   },
   "outputs": [
    {
     "name": "stdout",
     "output_type": "stream",
     "text": [
      "      user_id  month  num_of_calls  num_of_messages   mb_used  total_minutes  \\\n",
      "1959     1385      3          12.0              4.0   1995.36          70.28   \n",
      "1353     1198      9          51.0              7.0  13162.26         403.34   \n",
      "1380     1206      9          66.0             35.0  26898.43         400.93   \n",
      "1107     1120      9          60.0             53.0  28016.71         406.81   \n",
      "552      1405      7          23.0             59.0  15911.35         175.67   \n",
      "\n",
      "          plan  usd_monthly_pay  monthly_revenue  surcharge  \n",
      "1959      surf             20.0             20.0        0.0  \n",
      "1353      surf             20.0             20.0        0.0  \n",
      "1380      surf             20.0             20.0        0.0  \n",
      "1107      surf             20.0             20.0        0.0  \n",
      "552   ultimate             70.0             70.0        0.0  \n"
     ]
    }
   ],
   "source": [
    "# Calcula el ingreso mensual para cada usuario\n",
    "# Hacemos una función que calcule el ingreso mensual considerando los máximos de las tarifas para en dado caso aplicar los cargos extras indicados\n",
    "def calculate_monthly_revenue(row):\n",
    "  if row['plan'] == 'Surf':\n",
    "    extra_minutes = max(0, row['total_minutes'] - 500)\n",
    "    extra_messages = max(0, row['num_of_messages'] - 50)\n",
    "    extra_data = max(0, row['mb_used'] - 15000)\n",
    "    surcharge = extra_minutes * 0.03 + extra_messages * 0.03 + extra_data * 0.001 * 10  # 1 MB = 0.001 GB\n",
    "  else:\n",
    "    extra_minutes = max(0, row['total_minutes'] - 3000)\n",
    "    extra_messages = max(0, row['num_of_messages'] - 1000)\n",
    "    extra_data = max(0, row['mb_used'] - 30000)\n",
    "    surcharge = extra_minutes * 0.01 + extra_messages * 0.01 + extra_data * 0.001 * 7\n",
    "  return row['usd_monthly_pay'] + surcharge\n",
    "#Agremos las columnas del ingreso mensual y de los cargos extras al data frame donde juntamos la información\n",
    "df_monthly_consumption['monthly_revenue'] = df_monthly_consumption.apply(calculate_monthly_revenue, axis=1)\n",
    "df_monthly_consumption['surcharge'] = df_monthly_consumption.apply(lambda row: row['monthly_revenue'] - row['usd_monthly_pay'], axis=1)\n",
    "print(df_monthly_consumption.sample(5))\n"
   ]
  },
  {
   "cell_type": "markdown",
   "metadata": {},
   "source": [
    "<div class=\"alert alert-block alert-success\"> <b>Comentario del revisor</b> <a class=\"tocSkip\"></a><br>\n",
    "\n",
    "Excelente trabajo en esta sección. Has implementado correctamente los cálculos mensuales de ingresos para cada usuario de acuerdo a las condiciones de las tarifas y aplicado las tarifas adicionales de forma precisa. Además, la estructura y claridad de los pasos que seguiste facilitan entender cómo se recopilan y transforman los datos en esta sección.\n",
    "</div> <div class=\"alert alert-block alert-warning\"> <b>Comentario del revisor</b> <a class=\"tocSkip\"></a><br>\n",
    "\n",
    "Sugerencia: ⚠️ Observa que en la fusión de las tablas para el cálculo de ingresos mensuales, algunas columnas podrían tener valores nulos si los usuarios no realizaron ciertas actividades (por ejemplo, llamadas o mensajes en un mes). Considera aplicar un fillna(0) en las columnas num_of_calls, num_of_messages, mb_used, y total_minutes para evitar errores en cálculos futuros y asegurar que el código sea más robusto.\n",
    "</div>"
   ]
  },
  {
   "cell_type": "markdown",
   "metadata": {
    "id": "-jtyHzJb0q1I"
   },
   "source": [
    "## Estudia el comportamiento de usuario"
   ]
  },
  {
   "cell_type": "markdown",
   "metadata": {
    "id": "AxU3Y0N70q1J"
   },
   "source": [
    "[Calcula algunas estadísticas descriptivas para los datos agregados y fusionados que nos sean útiles y que muestren un panorama general captado por los datos. Dibuja gráficos útiles para facilitar la comprensión. Dado que la tarea principal es comparar las tarifas y decidir cuál es más rentable, las estadísticas y gráficas deben calcularse por tarifa.]\n",
    "\n",
    "[En los comentarios hallarás pistas relevantes para las llamadas, pero no las hay para los mensajes e Internet. Sin embargo, el principio del estudio estadístico que se aplica para ellos es el mismo que para las llamadas.]"
   ]
  },
  {
   "cell_type": "markdown",
   "metadata": {
    "id": "vtW4CJEe0q1J"
   },
   "source": [
    "### Llamadas"
   ]
  },
  {
   "cell_type": "code",
   "execution_count": 101,
   "metadata": {
    "id": "Jf5v5--k0q1J"
   },
   "outputs": [
    {
     "name": "stdout",
     "output_type": "stream",
     "text": [
      "plan         surf    ultimate\n",
      "month                        \n",
      "1      192.840000  183.162500\n",
      "2      280.851111  443.171667\n",
      "3      310.970000  285.701667\n",
      "4      332.380000  316.508095\n",
      "5      387.108000  383.664828\n",
      "6      411.450625  365.358222\n",
      "7      428.060917  403.767288\n",
      "8      394.474717  397.274789\n",
      "9      397.133298  413.287326\n",
      "10     414.435733  429.217238\n",
      "11     408.255415  423.814683\n",
      "12     457.547074  438.824832\n"
     ]
    },
    {
     "data": {
      "image/png": "[encoded data removed]",
      "text/plain": [
       "<Figure size 640x480 with 1 Axes>"
      ]
     },
     "metadata": {},
     "output_type": "display_data"
    }
   ],
   "source": [
    "# Compara la duración promedio de llamadas por cada plan y por cada mes. Traza un gráfico de barras para visualizarla.\n",
    "# Tenemos que hacer una tabla pivot para poder tener la información total promedio por cada plan por mes y ya con esta tabla hacemos la gráfica.\n",
    "df_monthly_consumption_pivot = df_monthly_consumption.pivot_table(index='month', columns='plan', values='total_minutes', aggfunc='mean')\n",
    "print(df_monthly_consumption_pivot)\n",
    "df_monthly_consumption_pivot.plot(kind='bar')\n",
    "plt.show()"
   ]
  },
  {
   "cell_type": "code",
   "execution_count": 102,
   "metadata": {
    "id": "QoLqW1S_0q1J"
   },
   "outputs": [
    {
     "data": {
      "image/png": "[encoded data removed]",
      "text/plain": [
       "<Figure size 640x480 with 1 Axes>"
      ]
     },
     "metadata": {},
     "output_type": "display_data"
    }
   ],
   "source": [
    "# Compara el número de minutos mensuales que necesitan los usuarios de cada plan. Traza un histograma.\n",
    "# Hhacemos un histograma para cada plan para que se puedan apreciar en el mismo gráfico.\n",
    "df_monthly_consumption[df_monthly_consumption['plan'] == 'surf']['total_minutes'].plot(kind = 'hist', bins=20)\n",
    "df_monthly_consumption[df_monthly_consumption['plan'] == 'ultimate']['total_minutes'].plot(kind = 'hist', bins=20, alpha = 0.8)\n",
    "plt.legend(['Surf', 'Ultimate'])\n",
    "plt.show()\n"
   ]
  },
  {
   "cell_type": "markdown",
   "metadata": {
    "id": "bLS9T8OH0q1K"
   },
   "source": [
    "[Calcula la media y la variable de la duración de las llamadas para averiguar si los usuarios de los distintos planes se comportan de forma diferente al realizar sus llamadas.]"
   ]
  },
  {
   "cell_type": "code",
   "execution_count": 103,
   "metadata": {
    "id": "oSndbAnt0q1K"
   },
   "outputs": [
    {
     "name": "stdout",
     "output_type": "stream",
     "text": [
      "La media de la duración de las llamadas es: [5636.60359604 5925.10708365] para los planes Surf y Ultimate respectivamente\n",
      "La varianza de la duración de las llamadas es: [367.95890751 373.64609447] para los planes Surf y Ultimate respectivamente\n"
     ]
    }
   ],
   "source": [
    "# Calcula la media y la varianza de la duración mensual de llamadas.\n",
    "df_monthly_consumption_mean = np.array(df_monthly_consumption_pivot.mean())\n",
    "df_monthly_consumption_var = np.array(df_monthly_consumption_pivot.var())\n",
    "\n",
    "print(\"La media de la duración de las llamadas es:\", df_monthly_consumption_var, \"para los planes Surf y Ultimate respectivamente\")\n",
    "print(\"La varianza de la duración de las llamadas es:\", df_monthly_consumption_mean, \"para los planes Surf y Ultimate respectivamente\")\n"
   ]
  },
  {
   "cell_type": "code",
   "execution_count": 104,
   "metadata": {
    "id": "nZzoRUKc0q1K"
   },
   "outputs": [
    {
     "data": {
      "image/png": "[encoded data removed]",
      "text/plain": [
       "<Figure size 640x480 with 1 Axes>"
      ]
     },
     "metadata": {},
     "output_type": "display_data"
    }
   ],
   "source": [
    "# Traza un diagrama de caja para visualizar la distribución de la duración mensual de llamadas\n",
    "df_monthly_consumption.boxplot(column='total_minutes', by='plan')\n",
    "plt.show()\n"
   ]
  },
  {
   "cell_type": "markdown",
   "metadata": {
    "id": "r627zBO50q1K"
   },
   "source": [
    "Podemos ver que el comportamiento de los usuarios con respecto a las llamadas si tiene una varianza, aunque la duración de las llamadas en general es muy similar en ambos planes si hay cambios, por ejemplo en febrero es superado por un margen alto la duración de las llamadas el plan Ultimate, en el segundo semestre excepto diciembre también es un poco mayor la duración de las llamadas con el plan Ultimate. De la misma forma el promedio del tiempo de las llamadas es un poco mayor con el plan Ultimate. En cuanto a la varianza podemos ver que en el plan Ultimate los valores están más dispersos en relación con la media."
   ]
  },
  {
   "cell_type": "markdown",
   "metadata": {},
   "source": [
    "Aquí tienes ambos comentarios en un formato concreto y resaltando el tag de éxito como solicitaste:\n",
    "<div class=\"alert alert-block alert-success\"> <b>Comentario del revisor</b> <a class=\"tocSkip\"></a><br> <b>Éxito</b> - Excelente trabajo en esta sección. Tus conclusiones intermedias son claras y bien estructuradas, especialmente en la comparación de la duración de llamadas entre los planes. Has captado variaciones importantes en el tiempo de llamadas promedio por plan y mes, además de la dispersión de valores en el plan \"Ultimate\". Estas observaciones enriquecen el análisis y muestran un buen manejo de los datos. ¡Continúa así! </div>"
   ]
  },
  {
   "cell_type": "markdown",
   "metadata": {
    "id": "8idKy8Wh0q1L"
   },
   "source": [
    "### Mensajes"
   ]
  },
  {
   "cell_type": "code",
   "execution_count": 105,
   "metadata": {
    "id": "NXLxiTit0q1L"
   },
   "outputs": [
    {
     "name": "stdout",
     "output_type": "stream",
     "text": [
      "plan        surf   ultimate\n",
      "month                      \n",
      "1      21.000000  20.666667\n",
      "2      21.600000  25.166667\n",
      "3      21.937500  34.714286\n",
      "4      24.166667  28.937500\n",
      "5      33.017857  44.333333\n",
      "6      33.616438  36.289474\n",
      "7      35.945055  41.212766\n",
      "8      37.596774  47.929825\n",
      "9      39.523179  45.901408\n",
      "10     42.433862  46.977528\n",
      "11     40.553097  47.601942\n",
      "12     48.326772  53.936508\n"
     ]
    },
    {
     "data": {
      "image/png": "[encoded data removed]",
      "text/plain": [
       "<Figure size 640x480 with 1 Axes>"
      ]
     },
     "metadata": {},
     "output_type": "display_data"
    }
   ],
   "source": [
    "# Comprara el número de mensajes que tienden a enviar cada mes los usuarios de cada plan\n",
    "df_monthly_consumption_pivot = df_monthly_consumption.pivot_table(index='month', columns='plan', values='num_of_messages', aggfunc='mean')\n",
    "print(df_monthly_consumption_pivot)\n",
    "df_monthly_consumption_pivot.plot(kind='bar')\n",
    "plt.show()\n"
   ]
  },
  {
   "cell_type": "code",
   "execution_count": 106,
   "metadata": {
    "id": "GRI_R7xF0q1L"
   },
   "outputs": [
    {
     "data": {
      "image/png": "[encoded data removed]",
      "text/plain": [
       "<Figure size 640x480 with 1 Axes>"
      ]
     },
     "metadata": {},
     "output_type": "display_data"
    }
   ],
   "source": [
    "df_monthly_consumption[df_monthly_consumption['plan'] == 'surf']['num_of_messages'].plot(kind = 'hist', bins=30)\n",
    "df_monthly_consumption[df_monthly_consumption['plan'] == 'ultimate']['num_of_messages'].plot(kind = 'hist', bins=30, alpha = 0.8)\n",
    "plt.legend(['Surf', 'Ultimate'])\n",
    "plt.show()"
   ]
  },
  {
   "cell_type": "code",
   "execution_count": 107,
   "metadata": {
    "id": "dtFwCGAp0q1M"
   },
   "outputs": [
    {
     "data": {
      "image/png": "[encoded data removed]",
      "text/plain": [
       "<Figure size 640x480 with 1 Axes>"
      ]
     },
     "metadata": {},
     "output_type": "display_data"
    }
   ],
   "source": [
    "df_monthly_consumption.boxplot(column='num_of_messages', by='plan')\n",
    "plt.show()"
   ]
  },
  {
   "cell_type": "markdown",
   "metadata": {
    "id": "390SSL480q1M"
   },
   "source": [
    "[Elabora las conclusiones sobre el comportamiento de los usuarios con respecto a los mensajes. ¿Su comportamiento varía en función del plan? \n",
    "\n",
    "Podemos ver que el numero de mensajes enviado por el plan ultimate es mayor en todos los meses en comparación con los enviados por el plan surf, aunque en el plan surf hay más valores atípicos."
   ]
  },
  {
   "cell_type": "markdown",
   "metadata": {},
   "source": [
    "<div class=\"alert alert-block alert-success\"> <b>Comentario del revisor</b> <a class=\"tocSkip\"></a><br> <b>Éxito</b>- Buen trabajo en esta sección. Has destacado con precisión cómo los usuarios del plan \"Ultimate\" envían más mensajes en promedio que los de \"Surf\", y observaste correctamente que el plan \"Surf\" muestra más valores atípicos. También, tu análisis sobre el consumo de internet es claro, señalando cómo las diferencias entre los planes se van nivelando a lo largo del año y la variabilidad en el plan \"Surf\". Mantén este nivel de detalle y claridad en tus conclusiones. ¡Sigue así! 🚀 </div> "
   ]
  },
  {
   "cell_type": "markdown",
   "metadata": {
    "id": "42YSypXz0q1M"
   },
   "source": [
    "### Internet"
   ]
  },
  {
   "cell_type": "code",
   "execution_count": 108,
   "metadata": {
    "id": "lSuKPtjh0q1M"
   },
   "outputs": [
    {
     "name": "stdout",
     "output_type": "stream",
     "text": [
      "plan           surf      ultimate\n",
      "month                            \n",
      "1       4874.860000   6918.092500\n",
      "2      12178.843333  17128.808571\n",
      "3      13345.440000  18321.518333\n",
      "4      12228.778571  16121.654762\n",
      "5      14119.728026  16624.482414\n",
      "6      15623.666632  15337.921064\n",
      "7      16923.463917  16344.744407\n",
      "8      17112.224403  17814.720141\n",
      "9      16677.397254  16969.869535\n",
      "10     17533.275256  17780.292000\n",
      "11     16455.548043  17033.685354\n",
      "12     18189.669590  18323.191854\n"
     ]
    },
    {
     "data": {
      "image/png": "[encoded data removed]",
      "text/plain": [
       "<Figure size 640x480 with 1 Axes>"
      ]
     },
     "metadata": {},
     "output_type": "display_data"
    }
   ],
   "source": [
    "# Compara la cantidad de tráfico de Internet consumido por usuarios por plan\n",
    "df_monthly_consumption_pivot = df_monthly_consumption.pivot_table(index='month', columns='plan', values='mb_used', aggfunc='mean')\n",
    "print(df_monthly_consumption_pivot)\n",
    "df_monthly_consumption_pivot.plot(kind='bar')\n",
    "plt.show()"
   ]
  },
  {
   "cell_type": "code",
   "execution_count": 109,
   "metadata": {
    "id": "wnh8jYXi0q1N"
   },
   "outputs": [
    {
     "data": {
      "image/png": "[encoded data removed]",
      "text/plain": [
       "<Figure size 640x480 with 1 Axes>"
      ]
     },
     "metadata": {},
     "output_type": "display_data"
    }
   ],
   "source": [
    "df_monthly_consumption[df_monthly_consumption['plan'] == 'surf']['mb_used'].plot(kind = 'hist', bins=30)\n",
    "df_monthly_consumption[df_monthly_consumption['plan'] == 'ultimate']['mb_used'].plot(kind = 'hist', bins=30, alpha = 0.8)\n",
    "plt.legend(['Surf', 'Ultimate'])\n",
    "plt.show()"
   ]
  },
  {
   "cell_type": "code",
   "execution_count": 110,
   "metadata": {
    "id": "5VlyJ9ry0q1N"
   },
   "outputs": [
    {
     "data": {
      "image/png": "[encoded data removed]",
      "text/plain": [
       "<Figure size 640x480 with 1 Axes>"
      ]
     },
     "metadata": {},
     "output_type": "display_data"
    }
   ],
   "source": [
    "df_monthly_consumption.boxplot(column='mb_used', by='plan')\n",
    "plt.show()"
   ]
  },
  {
   "cell_type": "markdown",
   "metadata": {
    "id": "UN9zwuMP0q1N"
   },
   "source": [
    "Podemos ver que el comportamiento de los usuarios respecto al consumo de mb es similar en los dos planes, aunque en los primeros meses fue superior el consumo mediante el plan ultimate al trancurrir el año se fue nivelando el consumo con el plan surf. También podemos ver que hay una mayor varianza en el consumo por el plan surf."
   ]
  },
  {
   "cell_type": "markdown",
   "metadata": {
    "id": "tCijq3260q1N"
   },
   "source": [
    "## Ingreso"
   ]
  },
  {
   "cell_type": "markdown",
   "metadata": {
    "id": "9nq5IAcy0q1O"
   },
   "source": [
    "[Del mismo modo que has estudiado el comportamiento de los usuarios, describe estadísticamente los ingresos de los planes.]"
   ]
  },
  {
   "cell_type": "code",
   "execution_count": 111,
   "metadata": {
    "id": "tz-dq_V00q1O"
   },
   "outputs": [
    {
     "name": "stdout",
     "output_type": "stream",
     "text": [
      "Información sobre los ingresos por las tarifas\n",
      "\n",
      "plan         surf     ultimate\n",
      "month                         \n",
      "1        40.00000    280.00000\n",
      "2       180.00000    490.00000\n",
      "3       462.43432    896.80640\n",
      "4      1000.00000   1539.67569\n",
      "5      1590.22318   2051.54369\n",
      "6      2063.58164   3371.16409\n",
      "7      2652.66740   4251.87462\n",
      "8      3733.95906   5191.46852\n",
      "9      4063.26875   6204.79923\n",
      "10     5248.67691   7677.28031\n",
      "11     6071.08466   9126.89036\n",
      "12     7594.95344  11098.98300\n"
     ]
    },
    {
     "data": {
      "image/png": "[encoded data removed]",
      "text/plain": [
       "<Figure size 640x480 with 1 Axes>"
      ]
     },
     "metadata": {},
     "output_type": "display_data"
    },
    {
     "name": "stdout",
     "output_type": "stream",
     "text": [
      "Información sobre los ingresos por las tarifas extra\n",
      "\n",
      "plan         surf   ultimate\n",
      "month                       \n",
      "1         0.00000    0.00000\n",
      "2         0.00000    0.00000\n",
      "3         2.43432   56.80640\n",
      "4         0.00000   69.67569\n",
      "5        50.22318   21.54369\n",
      "6       123.58164   81.16409\n",
      "7       232.66740  121.87462\n",
      "8       493.95906  221.46852\n",
      "9       183.26875  184.79923\n",
      "10      508.67691  257.28031\n",
      "11      411.08466  236.89036\n",
      "12     1234.95344  528.98300\n"
     ]
    },
    {
     "data": {
      "image/png": "[encoded data removed]",
      "text/plain": [
       "<Figure size 640x480 with 1 Axes>"
      ]
     },
     "metadata": {},
     "output_type": "display_data"
    }
   ],
   "source": [
    "# Vamos a crear una tabla pivot para con la información de los ingresos mensuales por plan que ya teniamos en la tabla anterior. \n",
    "# También creamos una tabla y gráfica de los ingresos por cargos extra como referencia.\n",
    "print(\"Información sobre los ingresos por las tarifas\")\n",
    "print()\n",
    "df_monthly_consumption_pivot = df_monthly_consumption.pivot_table(index='month', columns='plan', values='monthly_revenue', aggfunc='sum')\n",
    "print(df_monthly_consumption_pivot)\n",
    "df_monthly_consumption_pivot.plot(kind='bar')\n",
    "plt.show()\n",
    "\n",
    "print(\"Información sobre los ingresos por las tarifas extra\")\n",
    "print()\n",
    "df_monthly_consumption_pivot = df_monthly_consumption.pivot_table(index='month', columns='plan', values='surcharge', aggfunc='sum')\n",
    "print(df_monthly_consumption_pivot)\n",
    "df_monthly_consumption_pivot.plot(kind='bar')\n",
    "plt.show()\n"
   ]
  },
  {
   "cell_type": "code",
   "execution_count": 112,
   "metadata": {
    "id": "0Y1v8ZUz0q1P"
   },
   "outputs": [
    {
     "data": {
      "image/png": "[encoded data removed]",
      "text/plain": [
       "<Figure size 640x480 with 1 Axes>"
      ]
     },
     "metadata": {},
     "output_type": "display_data"
    }
   ],
   "source": [
    "df_monthly_consumption[df_monthly_consumption['plan'] == 'surf']['monthly_revenue'].plot(kind = 'hist', bins=50)\n",
    "df_monthly_consumption[df_monthly_consumption['plan'] == 'ultimate']['monthly_revenue'].plot(kind = 'hist', bins=50, alpha = 0.8)\n",
    "plt.legend(['Surf', 'Ultimate'])\n",
    "plt.show()"
   ]
  },
  {
   "cell_type": "markdown",
   "metadata": {},
   "source": [
    "<div class=\"alert alert-block alert-warning\">\n",
    "<b>Comentario del revisor</b> <a class=\"tocSkip\"></a><br>\n",
    "    \n",
    "<b>Atención</b> ⚠️ - Para mejorar la claridad de la visualización, considera realizar algunos ajustes en el histograma:\n",
    "\n",
    "1. **Outliers**: Identificar y tratar los valores atípicos (*outliers*) puede mejorar la escala y la interpretación de la gráfica. Utiliza el rango intercuartil (IQR) para detectarlos y decide si es necesario eliminarlos o ajustarlos.\n",
    "\n",
    "2. **Ajuste de Bins**: Aumentar el número de *bins* en el histograma (prueba con 50 o más) permitirá una mayor resolución en la distribución, facilitando la observación de variaciones en las frecuencias.\n",
    "\n",
    "Estos cambios harán que la representación de la distribución sea más precisa y útil para el análisis. ¡Continúa con estos ajustes!\n",
    "    \n",
    "</div>\n"
   ]
  },
  {
   "cell_type": "code",
   "execution_count": 113,
   "metadata": {
    "id": "bYmwxyVh0q1P"
   },
   "outputs": [
    {
     "name": "stdout",
     "output_type": "stream",
     "text": [
      "La media de los ingresos mensuales es: [2891.73744667 4348.37382583] respectivamente para los planes Surf y Ultimate\n",
      "La variación de los ingresos mensuales es: [ 6115320.22397681 12829471.23016878] respectivamente para los planes Surf y Ultimate\n"
     ]
    }
   ],
   "source": [
    "df_monthly_consumption_revenue_pivot = df_monthly_consumption.pivot_table(index='month', columns='plan', values='monthly_revenue', aggfunc='sum')\n",
    "df_monthly_consumption_revenue_mean = np.array(df_monthly_consumption_revenue_pivot.mean())\n",
    "print(\"La media de los ingresos mensuales es:\", df_monthly_consumption_revenue_mean, \"respectivamente para los planes Surf y Ultimate\")\n",
    "df_monthly_consumption_revenue_var = np.array(df_monthly_consumption_revenue_pivot.var())\n",
    "print(\"La variación de los ingresos mensuales es:\", df_monthly_consumption_revenue_var, \"respectivamente para los planes Surf y Ultimate\")"
   ]
  },
  {
   "cell_type": "markdown",
   "metadata": {
    "id": "KAFidcXZ0q1P"
   },
   "source": [
    "[Elabora las conclusiones sobre cómo difiere el ingreso entre los planes.]\n",
    "\n",
    "Podemos observar que los ingresos por el plan Ultimate son mayores en todos los meses en comparación con los del plan surf. Al mismo tiempo podemos ver que los ingresos fueron creciendo mensualmente a la par de como surgieron nuevos clientes. También podemos ver los ingresos por tarifas extra y como en este caso fueron mayores en el plan surf."
   ]
  },
  {
   "cell_type": "markdown",
   "metadata": {
    "id": "ajJ7VKeI0q1Q"
   },
   "source": [
    "## Prueba las hipótesis estadísticas"
   ]
  },
  {
   "cell_type": "markdown",
   "metadata": {
    "id": "AdXAZ-yL0q1Q"
   },
   "source": [
    "[Prueba la hipótesis de que son diferentes los ingresos promedio procedentes de los usuarios de los planes de llamada Ultimate y Surf.]"
   ]
  },
  {
   "cell_type": "markdown",
   "metadata": {
    "id": "IQwa_hsh0q1Q"
   },
   "source": [
    "Hipotesis nula:\n",
    "Los ingresos promedio de los usuarios de los dos planes son iguales\n",
    "Hipotesis alternativa:\n",
    "Los ingresos promedio de los usuarios de los dos planes son diferentes.\n",
    "\n",
    "Por la información requerida usaremos la hipótesis sobre la igualdad de las medias de muestras emparejadas\n",
    "\n",
    "Usaremos un valos alpha del 5%"
   ]
  },
  {
   "cell_type": "code",
   "execution_count": 114,
   "metadata": {
    "id": "nFoPNlPq0q1R"
   },
   "outputs": [
    {
     "name": "stdout",
     "output_type": "stream",
     "text": [
      "prueba t: -49.754891913267265\n",
      "valor_p: 8.511644287759079e-89\n",
      "Rechazar la hipótesis nula\n"
     ]
    }
   ],
   "source": [
    "# Prueba las hipótesis\n",
    "# Seleccionamos la hipótesis sobre la igualdad de las medias de muestras emparejadas. Tomamos una muestra de 100 usuarios.\n",
    "sample_surf = df_monthly_consumption[df_monthly_consumption['plan'] == 'surf']['monthly_revenue'].sample(100)\n",
    "sample_ultimate = df_monthly_consumption[df_monthly_consumption['plan'] == 'ultimate']['monthly_revenue'].sample(100)\n",
    "alpha = 0.05\n",
    "prueba_t, valor_p = st.ttest_ind(sample_surf, sample_ultimate, equal_var=False)\n",
    "print(\"prueba t:\", prueba_t)\n",
    "print(\"valor_p:\", valor_p)\n",
    "if valor_p < alpha:\n",
    "  print(\"Rechazar la hipótesis nula\")\n",
    "else:\n",
    "  print(\"No rechazar la hipótesis nula\")\n"
   ]
  },
  {
   "cell_type": "markdown",
   "metadata": {
    "id": "tCcAruM60q1R"
   },
   "source": []
  },
  {
   "cell_type": "markdown",
   "metadata": {
    "id": "LsBgitqj0q1R"
   },
   "source": [
    "Hipotesis nula:\n",
    "Los ingresos promedio de los usuarios en el área de NY-NJ son diferentes al de otras regiones.\n",
    "Hipotesis alternativa:\n",
    "Los ingresos promedio de los usuarios en el área de NY-NJ son iguales al de otras regiones.\n",
    "Por la información requerida usaremos la hipótesis sobre la igualdad de las medias de muestras emparejadas\n",
    "Usaremos un valos alpha del 5%"
   ]
  },
  {
   "cell_type": "code",
   "execution_count": 115,
   "metadata": {
    "id": "Cqcj7wrZ0q1S"
   },
   "outputs": [
    {
     "name": "stdout",
     "output_type": "stream",
     "text": [
      "prueba t: -2.6917577163966926\n",
      "valor_p: 0.007512769706276933\n",
      "Rechazar la hipótesis nula\n"
     ]
    }
   ],
   "source": [
    "# Prueba las hipótesis\n",
    "# Añadimos la información de la columna city del df_users al df_monthly_consumption\n",
    "\n",
    "df_monthly_consumption_city = pd.merge(df_monthly_consumption, df_users[['user_id', 'city']], on='user_id')\n",
    "\n",
    "# Creamos solo un data frame con usuarios que el nombre de la ciudad incluya en el nombre NY-NJ\n",
    "\n",
    "df_monthly_consumption_NY_NJ = df_monthly_consumption_city[df_monthly_consumption_city['city'].str.contains('NY-NJ')]\n",
    "\n",
    "# Creamos solo un data frame con usuarios que el nombre de la ciudad excluya en el nombre NY-NJ\n",
    "\n",
    "df_monthly_consumption_not_NY_NJ = df_monthly_consumption_city[~df_monthly_consumption_city['city'].str.contains('NY-NJ')]\n",
    "\n",
    "# Comprobamos mediante una hipótesis sobre la igualdad de las medias de muestras emparejadas. Tomamos una muestra de 150 usuarios.\n",
    "\n",
    "sample_df_monthly_consumption_NY_NJ = df_monthly_consumption_NY_NJ['monthly_revenue'].sample(150)\n",
    "sample_df_monthly_consumption_not_NY_NJ = df_monthly_consumption_not_NY_NJ['monthly_revenue'].sample(150)\n",
    "alpha = 0.05\n",
    "prueba_t, valor_p = st.ttest_ind(sample_df_monthly_consumption_NY_NJ, sample_df_monthly_consumption_not_NY_NJ, equal_var=False)\n",
    "print(\"prueba t:\", prueba_t)\n",
    "print(\"valor_p:\", valor_p)\n",
    "if valor_p < alpha:\n",
    "  print(\"Rechazar la hipótesis nula\")\n",
    "else:\n",
    "  print(\"No rechazar la hipótesis nula\")\n"
   ]
  },
  {
   "cell_type": "markdown",
   "metadata": {},
   "source": [
    "<div class=\"alert alert-block alert-success\"> <b>Comentario del revisor</b> <a class=\"tocSkip\"></a><br></a><br>\n",
    "\n",
    "<b>Éxito</b> - ¡Excelente trabajo al realizar la prueba de hipótesis! Has planteado claramente las hipótesis nula y alternativa y aplicado correctamente el test de hipótesis para comparar los ingresos promedio de los planes \"Surf\" y \"Ultimate\". La decisión de rechazar la hipótesis nula es sólida dado el valor p extremadamente bajo en el caso de la primera prueba, lo cual indica una diferencia estadísticamente significativa entre ambos planes.\n",
    "</div>"
   ]
  },
  {
   "cell_type": "markdown",
   "metadata": {
    "id": "bbTR8UQO0q1T"
   },
   "source": [
    "## Conclusión general\n",
    "\n",
    "Podemos concluir que los usuarios del plan Ultimate generan más ingreso a la compañía. También es importante decir que Megaline tuvo un crecimiento sostenido durante todo el año para ambos planes.\n",
    "Aunque es importante considerar que también el plan surf atiende a una parte importante de la población que prefiere gastar menos en su servicio y en conjunto representan una parte importante de los ingresos. Tomando en cuenta esto considero que Megaline se debería enfocar en publicitar su plan Ultimate que es el que le genera más ingresos."
   ]
  },
  {
   "cell_type": "markdown",
   "metadata": {},
   "source": [
    "<div class=\"alert alert-block alert-warning\">\n",
    "<b>Comentario del revisor</b> <a class=\"tocSkip\"></a>\n",
    "\n",
    "<b>Atención</b> ⚠️ - Para mejorar la claridad y profundidad de tus conclusiones finales, considera las siguientes pautas:\n",
    "\n",
    "<ul>\n",
    "    <li><b>Resumen de los Hallazgos Clave:</b> Incluye brevemente tus descubrimientos más importantes.</li>\n",
    "    <li><b>Impacto de tus Elecciones de Procesamiento de Datos:</b> Reflexiona sobre cómo tus decisiones influyeron en los resultados.</li>\n",
    "    <li><b>Relación con los Objetivos Iniciales:</b> Vincula tus hallazgos con los objetivos del proyecto.</li>\n",
    "    <li><b>Relevancia de los Hallazgos:</b> Discute la importancia de tus resultados para la empresa o usuarios.</li>\n",
    "    <li><b>Sugerencias y Recomendaciones:</b> Ofrece cualquier consejo basado en tus análisis.</li>\n",
    "    <li><b>Reflexiones Finales:</b> Concluye con tus pensamientos finales y aprendizajes del proyecto.</li>\n",
    "</ul>\n",
    "\n",
    "Recuerda que una conclusión efectiva resume tus hallazgos y proporciona insights y reflexiones sobre su impacto y relevancia. ¡Sigue así y éxito en la etapa final!\n",
    "</div>"
   ]
  },
  {
   "cell_type": "markdown",
   "metadata": {},
   "source": [
    "# Comentario del Revisor"
   ]
  },
  {
   "cell_type": "markdown",
   "metadata": {},
   "source": [
    "<div class=\"alert alert-block alert-success\"> \n",
    "<b>Comentario del revisor</b> <a class=\"tocSkip\"></a><br>\n",
    "\n",
    "<b>Comentario Final del Revisor</b> - ¡Felicidades por completar este proyecto! Has mostrado una comprensión sólida de los procesos de análisis de datos y un enfoque estructurado en cada paso, desde la preparación de los datos hasta las conclusiones basadas en evidencia. A continuación, destaco los puntos fuertes y algunas recomendaciones para optimizar el análisis.\n",
    "\n",
    "#### Puntos Positivos:\n",
    "- La estructuración del proyecto facilita la comprensión de cada sección y su contribución al análisis general.\n",
    "- La aplicación de gráficos y estadísticas descriptivas es adecuada y permite visualizar las diferencias en el uso y las características de los planes.\n",
    "- La inclusión de pruebas de hipótesis aporta un análisis comparativo importante para tomar decisiones informadas sobre el desempeño de los planes de tarifas.\n",
    "- La conclusión final es clara y se basa en los resultados obtenidos, proporcionando una recomendación estratégica bien fundamentada para Megaline.\n",
    "\n",
    "#### Áreas para Mejorar:\n",
    "- **Preprocesamiento de Datos**: La decisión de rellenar los valores nulos en 'churn_date' con ceros podría ser ajustada; si el valor representa un abandono, podría ser más informativo dejarlo como nulo para distinguir a los usuarios activos de los inactivos.\n",
    "- **Análisis de Ingresos Mensuales**: La función de cálculo de ingresos es adecuada, pero podrías mejorar su modularidad separando cada componente (llamadas, mensajes, datos) en funciones individuales para facilitar futuras adaptaciones.\n",
    "- **Segmentación Geográfica**: La hipótesis sobre NY-NJ es interesante; podrías mejorar el análisis realizando un desglose de ingresos por regiones adicionales para tener una perspectiva completa de las tendencias geográficas.\n",
    "\n",
    "#### Conclusión:\n",
    "Este proyecto es un buen ejemplo de cómo usar técnicas analíticas para extraer insights valiosos y ofrecer recomendaciones basadas en datos. Te animamos a seguir desarrollando habilidades de análisis y exploración en futuros proyectos para continuar afinando la precisión y claridad en cada fase del proceso. ¡Sigue así, tu progreso es notable! 🚀😊\n",
    "\n",
    "</div>"
   ]
  },
  {
   "cell_type": "markdown",
   "metadata": {},
   "source": [
    "<div class=\"alert alert-block alert-info\"> <b>Comentario del revisor</b> <a class=\"tocSkip\"></a><br>\n",
    "\n",
    "Si mis comentarios te han sido útiles y han contribuido a tu aprendizaje o mejorado tu proyecto, me encantaría que le compartieras tu experiencia a la Student Success Manager. ¡Tu feedback sería muy valioso para mí y para seguir mejorando la experiencia de revisión! 😊✨\n",
    "</div>"
   ]
  }
 ],
 "metadata": {
  "ExecuteTimeLog": [
   {
    "duration": 828,
    "start_time": "2021-11-16T09:21:11.304Z"
   },
   {
    "duration": 893,
    "start_time": "2021-11-16T09:21:17.728Z"
   },
   {
    "duration": 1150,
    "start_time": "2021-11-16T09:21:29.568Z"
   },
   {
    "duration": 3,
    "start_time": "2021-11-16T09:24:14.495Z"
   },
   {
    "duration": 120,
    "start_time": "2021-11-16T09:24:46.630Z"
   },
   {
    "duration": 3,
    "start_time": "2021-11-16T09:28:27.882Z"
   },
   {
    "duration": 4,
    "start_time": "2021-11-16T09:29:54.281Z"
   },
   {
    "duration": 3,
    "start_time": "2021-11-16T09:30:45.936Z"
   },
   {
    "duration": 4,
    "start_time": "2021-11-16T09:31:06.300Z"
   },
   {
    "duration": 113,
    "start_time": "2021-11-16T09:31:37.208Z"
   },
   {
    "duration": 143,
    "start_time": "2021-11-16T09:31:48.656Z"
   },
   {
    "duration": 98,
    "start_time": "2021-11-16T09:31:55.678Z"
   },
   {
    "duration": 3,
    "start_time": "2021-11-16T09:32:08.535Z"
   },
   {
    "duration": 111,
    "start_time": "2021-11-16T09:32:10.120Z"
   },
   {
    "duration": 3,
    "start_time": "2021-11-16T09:32:15.732Z"
   },
   {
    "duration": 4,
    "start_time": "2021-11-16T09:32:29.423Z"
   },
   {
    "duration": 3,
    "start_time": "2021-11-16T10:03:03.074Z"
   },
   {
    "duration": 3,
    "start_time": "2021-11-16T10:10:01.288Z"
   },
   {
    "duration": 3,
    "start_time": "2021-11-16T10:10:46.923Z"
   },
   {
    "duration": 121,
    "start_time": "2021-11-16T10:37:46.494Z"
   },
   {
    "duration": 125,
    "start_time": "2021-11-16T10:38:20.632Z"
   },
   {
    "duration": 112,
    "start_time": "2021-11-16T10:46:53.001Z"
   },
   {
    "duration": 110,
    "start_time": "2021-11-16T10:48:25.775Z"
   },
   {
    "duration": 3,
    "start_time": "2021-11-16T10:50:18.720Z"
   },
   {
    "duration": 4,
    "start_time": "2021-11-16T10:50:37.649Z"
   },
   {
    "duration": 2,
    "start_time": "2021-11-16T10:50:51.884Z"
   },
   {
    "duration": 3,
    "start_time": "2021-11-16T10:51:56.237Z"
   },
   {
    "duration": 101,
    "start_time": "2021-11-16T10:53:13.791Z"
   },
   {
    "duration": 3,
    "start_time": "2021-11-16T10:55:59.186Z"
   },
   {
    "duration": 3,
    "start_time": "2021-11-16T10:56:10.751Z"
   },
   {
    "duration": 3,
    "start_time": "2021-11-16T10:56:49.038Z"
   },
   {
    "duration": 3,
    "start_time": "2021-11-16T10:56:49.174Z"
   },
   {
    "duration": 4,
    "start_time": "2021-11-16T10:56:49.414Z"
   },
   {
    "duration": 3,
    "start_time": "2021-11-16T10:56:49.680Z"
   },
   {
    "duration": 3,
    "start_time": "2021-11-16T10:56:50.370Z"
   },
   {
    "duration": 114,
    "start_time": "2021-11-16T10:59:34.518Z"
   },
   {
    "duration": 3,
    "start_time": "2021-11-16T11:01:41.201Z"
   },
   {
    "duration": 116,
    "start_time": "2021-11-16T11:01:48.754Z"
   },
   {
    "duration": 3,
    "start_time": "2021-11-16T11:02:16.685Z"
   },
   {
    "duration": 3,
    "start_time": "2021-11-16T11:02:19.479Z"
   },
   {
    "duration": 3,
    "start_time": "2021-11-16T11:02:47.067Z"
   },
   {
    "duration": 3,
    "start_time": "2021-11-16T11:02:49.353Z"
   },
   {
    "duration": 3,
    "start_time": "2021-11-16T11:03:07.835Z"
   },
   {
    "duration": 3,
    "start_time": "2021-11-16T11:03:07.953Z"
   },
   {
    "duration": 112,
    "start_time": "2021-11-16T11:07:52.072Z"
   },
   {
    "duration": 187,
    "start_time": "2021-11-16T11:09:23.468Z"
   },
   {
    "duration": 4,
    "start_time": "2021-11-16T11:10:01.455Z"
   },
   {
    "duration": 3,
    "start_time": "2021-11-16T11:10:05.069Z"
   },
   {
    "duration": 4,
    "start_time": "2021-11-16T11:10:13.376Z"
   },
   {
    "duration": 3,
    "start_time": "2021-11-16T11:10:14.434Z"
   },
   {
    "duration": 3,
    "start_time": "2021-11-16T11:10:22.853Z"
   },
   {
    "duration": 4,
    "start_time": "2021-11-16T11:27:29.279Z"
   },
   {
    "duration": 4,
    "start_time": "2021-11-16T11:29:08.919Z"
   },
   {
    "duration": 118,
    "start_time": "2021-11-16T11:29:46.703Z"
   },
   {
    "duration": 437,
    "start_time": "2021-11-16T11:36:02.181Z"
   },
   {
    "duration": 157,
    "start_time": "2021-11-16T11:36:14.388Z"
   },
   {
    "duration": 207,
    "start_time": "2021-11-16T11:47:15.898Z"
   },
   {
    "duration": 3,
    "start_time": "2021-11-16T11:53:52.092Z"
   },
   {
    "duration": 3,
    "start_time": "2021-11-16T11:53:52.236Z"
   },
   {
    "duration": 3,
    "start_time": "2021-11-16T11:59:12.005Z"
   },
   {
    "duration": 112,
    "start_time": "2021-11-16T12:00:33.446Z"
   },
   {
    "duration": 3,
    "start_time": "2021-11-16T12:02:14.453Z"
   },
   {
    "duration": 3,
    "start_time": "2021-11-16T12:02:39.512Z"
   },
   {
    "duration": 106,
    "start_time": "2021-11-16T12:03:03.460Z"
   },
   {
    "duration": 3,
    "start_time": "2021-11-17T20:37:21.139Z"
   },
   {
    "duration": 3,
    "start_time": "2021-11-17T20:37:22.229Z"
   },
   {
    "duration": 3,
    "start_time": "2021-11-17T20:38:38.806Z"
   },
   {
    "duration": 3,
    "start_time": "2021-11-17T20:38:41.958Z"
   },
   {
    "duration": 3,
    "start_time": "2021-11-17T20:43:46.551Z"
   },
   {
    "duration": 4,
    "start_time": "2021-11-17T20:58:21.835Z"
   },
   {
    "duration": 3,
    "start_time": "2021-11-17T20:59:21.872Z"
   },
   {
    "duration": 4,
    "start_time": "2021-11-17T20:59:45.352Z"
   },
   {
    "duration": 4,
    "start_time": "2021-11-17T20:59:49.646Z"
   },
   {
    "duration": 159,
    "start_time": "2021-11-17T21:02:26.949Z"
   },
   {
    "duration": 3,
    "start_time": "2021-11-17T21:03:53.461Z"
   },
   {
    "duration": 3,
    "start_time": "2021-11-17T21:03:53.694Z"
   },
   {
    "duration": 3,
    "start_time": "2021-11-17T21:05:28.145Z"
   },
   {
    "duration": 116,
    "start_time": "2021-11-17T21:05:57.787Z"
   },
   {
    "duration": 3,
    "start_time": "2021-11-17T21:06:37.993Z"
   },
   {
    "duration": 3,
    "start_time": "2021-11-17T21:06:38.261Z"
   },
   {
    "duration": 3,
    "start_time": "2021-11-17T21:11:54.358Z"
   },
   {
    "duration": 3,
    "start_time": "2021-11-17T21:12:43.846Z"
   },
   {
    "duration": 4,
    "start_time": "2021-11-17T21:13:08.773Z"
   },
   {
    "duration": 3,
    "start_time": "2021-11-17T21:14:44.441Z"
   },
   {
    "duration": 3,
    "start_time": "2021-11-17T21:15:42.059Z"
   },
   {
    "duration": 4,
    "start_time": "2021-11-17T21:15:51.995Z"
   },
   {
    "duration": 3,
    "start_time": "2021-11-17T21:15:53.923Z"
   },
   {
    "duration": 3,
    "start_time": "2021-11-17T21:15:55.282Z"
   },
   {
    "duration": 3,
    "start_time": "2021-11-17T21:16:28.492Z"
   },
   {
    "duration": 3,
    "start_time": "2021-11-17T21:16:32.603Z"
   },
   {
    "duration": 3,
    "start_time": "2021-11-17T21:17:06.941Z"
   },
   {
    "duration": 98,
    "start_time": "2021-11-17T21:18:05.733Z"
   },
   {
    "duration": 4,
    "start_time": "2021-11-17T21:21:35.255Z"
   },
   {
    "duration": 3,
    "start_time": "2021-11-17T21:21:37.804Z"
   },
   {
    "duration": 4,
    "start_time": "2021-11-17T21:23:06.071Z"
   },
   {
    "duration": 3,
    "start_time": "2021-11-17T21:23:24.799Z"
   },
   {
    "duration": 3,
    "start_time": "2021-11-17T21:23:32.591Z"
   },
   {
    "duration": 98,
    "start_time": "2021-11-17T21:28:31.559Z"
   },
   {
    "duration": 3,
    "start_time": "2021-11-17T21:28:45.448Z"
   },
   {
    "duration": 3,
    "start_time": "2021-11-17T21:29:17.303Z"
   },
   {
    "duration": 3,
    "start_time": "2021-11-17T21:29:29.617Z"
   },
   {
    "duration": 3,
    "start_time": "2021-11-17T21:29:32.681Z"
   },
   {
    "duration": 3,
    "start_time": "2021-11-17T21:36:11.474Z"
   },
   {
    "duration": 3,
    "start_time": "2021-11-17T21:36:14.791Z"
   },
   {
    "duration": 3,
    "start_time": "2021-11-17T21:36:53.943Z"
   },
   {
    "duration": 3,
    "start_time": "2021-11-17T21:36:56.165Z"
   },
   {
    "duration": 4,
    "start_time": "2021-11-17T21:37:16.590Z"
   },
   {
    "duration": 3,
    "start_time": "2021-11-17T21:37:22.702Z"
   },
   {
    "duration": 4,
    "start_time": "2021-11-17T21:38:03.479Z"
   },
   {
    "duration": 3,
    "start_time": "2021-11-17T21:38:08.601Z"
   },
   {
    "duration": 3,
    "start_time": "2021-11-17T21:38:12.928Z"
   },
   {
    "duration": 3,
    "start_time": "2021-11-17T21:38:48.896Z"
   },
   {
    "duration": 2,
    "start_time": "2021-11-17T21:38:49.171Z"
   },
   {
    "duration": 4,
    "start_time": "2021-11-17T21:39:57.889Z"
   },
   {
    "duration": 3,
    "start_time": "2021-11-17T21:39:58.057Z"
   },
   {
    "duration": 3,
    "start_time": "2021-11-17T21:41:20.108Z"
   },
   {
    "duration": 3,
    "start_time": "2021-11-17T21:41:20.629Z"
   },
   {
    "duration": 3,
    "start_time": "2021-11-17T21:42:49.136Z"
   },
   {
    "duration": 3,
    "start_time": "2021-11-17T21:43:15.137Z"
   },
   {
    "duration": 4,
    "start_time": "2021-11-17T21:43:16.766Z"
   },
   {
    "duration": 4,
    "start_time": "2021-11-17T21:43:31.711Z"
   },
   {
    "duration": 3,
    "start_time": "2021-11-17T21:43:36.312Z"
   },
   {
    "duration": 4,
    "start_time": "2021-11-17T21:45:08.825Z"
   },
   {
    "duration": 4,
    "start_time": "2021-11-17T21:45:10.119Z"
   },
   {
    "duration": 4,
    "start_time": "2021-11-17T21:45:13.748Z"
   },
   {
    "duration": 3,
    "start_time": "2021-11-17T21:45:22.219Z"
   },
   {
    "duration": 3,
    "start_time": "2021-11-17T21:45:33.412Z"
   },
   {
    "duration": 2,
    "start_time": "2021-11-17T21:46:01.885Z"
   },
   {
    "duration": 3,
    "start_time": "2021-11-17T21:46:03.628Z"
   },
   {
    "duration": 107,
    "start_time": "2021-11-17T21:47:32.512Z"
   },
   {
    "duration": 103,
    "start_time": "2021-11-17T21:50:36.243Z"
   },
   {
    "duration": 3,
    "start_time": "2021-11-18T06:28:31.440Z"
   },
   {
    "duration": 3,
    "start_time": "2021-11-18T06:29:00.168Z"
   },
   {
    "duration": 3,
    "start_time": "2021-11-18T06:31:27.008Z"
   },
   {
    "duration": 2,
    "start_time": "2021-11-18T06:35:34.288Z"
   },
   {
    "duration": 2,
    "start_time": "2021-11-18T06:38:04.527Z"
   },
   {
    "duration": 2479,
    "start_time": "2024-11-04T17:06:20.627Z"
   },
   {
    "duration": 192,
    "start_time": "2024-11-04T17:11:08.499Z"
   },
   {
    "duration": 131,
    "start_time": "2024-11-04T17:31:54.668Z"
   },
   {
    "duration": 19,
    "start_time": "2024-11-04T17:32:07.457Z"
   },
   {
    "duration": 12,
    "start_time": "2024-11-04T17:32:15.618Z"
   },
   {
    "duration": 102,
    "start_time": "2024-11-04T17:32:30.863Z"
   },
   {
    "duration": 7,
    "start_time": "2024-11-04T17:32:40.833Z"
   },
   {
    "duration": 10,
    "start_time": "2024-11-04T17:32:48.743Z"
   },
   {
    "duration": 21,
    "start_time": "2024-11-04T17:33:04.019Z"
   },
   {
    "duration": 11,
    "start_time": "2024-11-04T17:36:58.008Z"
   },
   {
    "duration": 4,
    "start_time": "2024-11-04T17:37:54.091Z"
   },
   {
    "duration": 8,
    "start_time": "2024-11-04T17:38:02.264Z"
   },
   {
    "duration": 22,
    "start_time": "2024-11-04T17:41:02.960Z"
   },
   {
    "duration": 21,
    "start_time": "2024-11-04T17:44:06.275Z"
   },
   {
    "duration": 13,
    "start_time": "2024-11-04T18:03:14.792Z"
   },
   {
    "duration": 18,
    "start_time": "2024-11-04T18:34:20.888Z"
   },
   {
    "duration": 16,
    "start_time": "2024-11-04T18:35:50.559Z"
   },
   {
    "duration": 9,
    "start_time": "2024-11-04T18:47:24.636Z"
   },
   {
    "duration": 3,
    "start_time": "2024-11-04T19:01:37.324Z"
   },
   {
    "duration": 11,
    "start_time": "2024-11-04T19:03:12.708Z"
   },
   {
    "duration": 6,
    "start_time": "2024-11-04T19:22:56.741Z"
   },
   {
    "duration": 16,
    "start_time": "2024-11-04T19:55:53.683Z"
   },
   {
    "duration": 15,
    "start_time": "2024-11-04T19:55:58.392Z"
   },
   {
    "duration": 18,
    "start_time": "2024-11-04T19:56:28.425Z"
   },
   {
    "duration": 18,
    "start_time": "2024-11-04T19:56:54.037Z"
   },
   {
    "duration": 13,
    "start_time": "2024-11-04T19:58:09.991Z"
   },
   {
    "duration": 7,
    "start_time": "2024-11-04T19:58:16.859Z"
   },
   {
    "duration": 29,
    "start_time": "2024-11-04T20:24:34.129Z"
   },
   {
    "duration": 36,
    "start_time": "2024-11-04T20:27:04.359Z"
   },
   {
    "duration": 68,
    "start_time": "2024-11-04T20:28:35.396Z"
   },
   {
    "duration": 81,
    "start_time": "2024-11-04T20:29:18.304Z"
   },
   {
    "duration": 76,
    "start_time": "2024-11-04T20:30:28.869Z"
   },
   {
    "duration": 224,
    "start_time": "2024-11-04T20:30:38.055Z"
   },
   {
    "duration": 366,
    "start_time": "2024-11-04T20:31:03.513Z"
   },
   {
    "duration": 386,
    "start_time": "2024-11-04T20:31:56.929Z"
   },
   {
    "duration": 627,
    "start_time": "2024-11-04T20:33:35.548Z"
   },
   {
    "duration": 17,
    "start_time": "2024-11-04T21:37:23.951Z"
   },
   {
    "duration": 9,
    "start_time": "2024-11-04T21:37:33.493Z"
   },
   {
    "duration": 5,
    "start_time": "2024-11-04T21:44:00.727Z"
   },
   {
    "duration": 4,
    "start_time": "2024-11-04T21:45:29.501Z"
   },
   {
    "duration": 18,
    "start_time": "2024-11-04T21:45:50.212Z"
   },
   {
    "duration": 7,
    "start_time": "2024-11-04T21:46:56.496Z"
   },
   {
    "duration": 16,
    "start_time": "2024-11-04T21:47:01.036Z"
   },
   {
    "duration": 21,
    "start_time": "2024-11-04T21:56:01.332Z"
   },
   {
    "duration": 15,
    "start_time": "2024-11-04T21:59:20.178Z"
   },
   {
    "duration": 7,
    "start_time": "2024-11-04T21:59:35.909Z"
   },
   {
    "duration": 6,
    "start_time": "2024-11-04T22:03:12.478Z"
   },
   {
    "duration": 4,
    "start_time": "2024-11-04T22:03:20.919Z"
   },
   {
    "duration": 4,
    "start_time": "2024-11-04T22:03:50.415Z"
   },
   {
    "duration": 4,
    "start_time": "2024-11-04T22:03:55.295Z"
   },
   {
    "duration": 4,
    "start_time": "2024-11-04T22:04:18.447Z"
   },
   {
    "duration": 8,
    "start_time": "2024-11-04T22:04:38.084Z"
   },
   {
    "duration": 5,
    "start_time": "2024-11-04T22:04:56.719Z"
   },
   {
    "duration": 4,
    "start_time": "2024-11-04T22:05:28.749Z"
   },
   {
    "duration": 6,
    "start_time": "2024-11-04T22:10:22.722Z"
   },
   {
    "duration": 8,
    "start_time": "2024-11-04T22:13:13.996Z"
   },
   {
    "duration": 7,
    "start_time": "2024-11-04T22:23:20.699Z"
   },
   {
    "duration": 26,
    "start_time": "2024-11-04T23:22:44.507Z"
   },
   {
    "duration": 492,
    "start_time": "2024-11-04T23:32:53.473Z"
   },
   {
    "duration": 120,
    "start_time": "2024-11-05T00:23:15.858Z"
   },
   {
    "duration": 12,
    "start_time": "2024-11-05T00:23:25.361Z"
   },
   {
    "duration": 6,
    "start_time": "2024-11-05T00:23:32.017Z"
   },
   {
    "duration": 319,
    "start_time": "2024-11-05T02:57:32.482Z"
   },
   {
    "duration": 18,
    "start_time": "2024-11-05T02:57:57.284Z"
   },
   {
    "duration": 14,
    "start_time": "2024-11-05T02:59:35.777Z"
   },
   {
    "duration": 20,
    "start_time": "2024-11-05T02:59:41.428Z"
   },
   {
    "duration": 6,
    "start_time": "2024-11-05T02:59:49.801Z"
   },
   {
    "duration": 6,
    "start_time": "2024-11-05T03:09:32.576Z"
   },
   {
    "duration": 7,
    "start_time": "2024-11-05T03:10:35.455Z"
   },
   {
    "duration": 5,
    "start_time": "2024-11-05T03:11:33.117Z"
   },
   {
    "duration": 5,
    "start_time": "2024-11-05T03:12:27.988Z"
   },
   {
    "duration": 8,
    "start_time": "2024-11-05T03:38:17.709Z"
   },
   {
    "duration": 8,
    "start_time": "2024-11-05T03:38:23.565Z"
   },
   {
    "duration": 7,
    "start_time": "2024-11-05T03:38:29.258Z"
   },
   {
    "duration": 7,
    "start_time": "2024-11-05T03:38:34.697Z"
   },
   {
    "duration": 2822,
    "start_time": "2024-11-05T15:49:25.558Z"
   },
   {
    "duration": 222,
    "start_time": "2024-11-05T15:49:31.387Z"
   },
   {
    "duration": 29,
    "start_time": "2024-11-05T15:49:36.120Z"
   },
   {
    "duration": 12,
    "start_time": "2024-11-05T15:49:44.062Z"
   },
   {
    "duration": 15,
    "start_time": "2024-11-05T15:49:50.138Z"
   },
   {
    "duration": 14,
    "start_time": "2024-11-05T15:50:12.794Z"
   },
   {
    "duration": 12,
    "start_time": "2024-11-05T15:50:45.695Z"
   },
   {
    "duration": 10,
    "start_time": "2024-11-05T15:51:08.484Z"
   },
   {
    "duration": 19,
    "start_time": "2024-11-05T15:53:24.263Z"
   },
   {
    "duration": 8,
    "start_time": "2024-11-05T15:53:36.315Z"
   },
   {
    "duration": 32,
    "start_time": "2024-11-05T15:53:40.690Z"
   },
   {
    "duration": 32,
    "start_time": "2024-11-05T15:53:56.661Z"
   },
   {
    "duration": 16,
    "start_time": "2024-11-05T15:54:03.711Z"
   },
   {
    "duration": 8,
    "start_time": "2024-11-05T15:54:17.729Z"
   },
   {
    "duration": 20,
    "start_time": "2024-11-05T15:54:26.376Z"
   },
   {
    "duration": 19,
    "start_time": "2024-11-05T15:54:37.637Z"
   },
   {
    "duration": 21,
    "start_time": "2024-11-05T15:56:33.765Z"
   },
   {
    "duration": 17,
    "start_time": "2024-11-05T15:56:37.967Z"
   },
   {
    "duration": 7,
    "start_time": "2024-11-05T15:56:43.458Z"
   },
   {
    "duration": 21,
    "start_time": "2024-11-05T15:56:50.535Z"
   },
   {
    "duration": 30,
    "start_time": "2024-11-05T15:57:20.260Z"
   },
   {
    "duration": 7,
    "start_time": "2024-11-05T15:57:44.606Z"
   },
   {
    "duration": 6,
    "start_time": "2024-11-05T15:58:06.660Z"
   },
   {
    "duration": 8,
    "start_time": "2024-11-05T15:58:26.593Z"
   },
   {
    "duration": 8,
    "start_time": "2024-11-05T15:58:43.401Z"
   },
   {
    "duration": 7,
    "start_time": "2024-11-05T15:58:52.942Z"
   },
   {
    "duration": 7,
    "start_time": "2024-11-05T15:59:02.931Z"
   },
   {
    "duration": 39,
    "start_time": "2024-11-05T16:13:03.643Z"
   },
   {
    "duration": 540,
    "start_time": "2024-11-05T16:15:16.101Z"
   },
   {
    "duration": 20,
    "start_time": "2024-11-05T16:15:35.635Z"
   },
   {
    "duration": 25,
    "start_time": "2024-11-05T16:16:51.563Z"
   },
   {
    "duration": 10,
    "start_time": "2024-11-05T16:34:14.944Z"
   },
   {
    "duration": 9,
    "start_time": "2024-11-05T16:35:26.308Z"
   },
   {
    "duration": 10,
    "start_time": "2024-11-05T16:35:40.737Z"
   },
   {
    "duration": 10,
    "start_time": "2024-11-05T16:36:32.464Z"
   },
   {
    "duration": 10,
    "start_time": "2024-11-05T16:37:23.328Z"
   },
   {
    "duration": 9,
    "start_time": "2024-11-05T16:37:34.456Z"
   },
   {
    "duration": 15,
    "start_time": "2024-11-05T17:51:52.786Z"
   },
   {
    "duration": 4,
    "start_time": "2024-11-05T18:09:10.338Z"
   },
   {
    "duration": 513,
    "start_time": "2024-11-05T18:09:22.305Z"
   },
   {
    "duration": 17,
    "start_time": "2024-11-05T18:27:25.943Z"
   },
   {
    "duration": 13,
    "start_time": "2024-11-05T18:41:22.772Z"
   },
   {
    "duration": 29,
    "start_time": "2024-11-05T18:42:39.698Z"
   },
   {
    "duration": 16,
    "start_time": "2024-11-05T18:42:53.025Z"
   },
   {
    "duration": 15,
    "start_time": "2024-11-05T18:43:15.296Z"
   },
   {
    "duration": 13,
    "start_time": "2024-11-05T18:43:27.140Z"
   },
   {
    "duration": 48,
    "start_time": "2024-11-05T23:51:34.117Z"
   },
   {
    "duration": 67,
    "start_time": "2024-11-05T23:52:04.199Z"
   },
   {
    "duration": 158,
    "start_time": "2024-11-05T23:52:31.373Z"
   },
   {
    "duration": 174,
    "start_time": "2024-11-05T23:53:34.601Z"
   },
   {
    "duration": 155,
    "start_time": "2024-11-06T15:10:12.208Z"
   },
   {
    "duration": 2424,
    "start_time": "2024-11-06T15:11:16.285Z"
   },
   {
    "duration": 202,
    "start_time": "2024-11-06T15:11:18.712Z"
   },
   {
    "duration": 24,
    "start_time": "2024-11-06T15:11:18.916Z"
   },
   {
    "duration": 9,
    "start_time": "2024-11-06T15:11:18.942Z"
   },
   {
    "duration": 12,
    "start_time": "2024-11-06T15:11:18.952Z"
   },
   {
    "duration": 3,
    "start_time": "2024-11-06T15:11:18.965Z"
   },
   {
    "duration": 10,
    "start_time": "2024-11-06T15:11:18.969Z"
   },
   {
    "duration": 31,
    "start_time": "2024-11-06T15:11:18.981Z"
   },
   {
    "duration": 7,
    "start_time": "2024-11-06T15:11:19.013Z"
   },
   {
    "duration": 2,
    "start_time": "2024-11-06T15:11:19.023Z"
   },
   {
    "duration": 16,
    "start_time": "2024-11-06T15:11:19.027Z"
   },
   {
    "duration": 7,
    "start_time": "2024-11-06T15:11:19.045Z"
   },
   {
    "duration": 61,
    "start_time": "2024-11-06T15:11:19.054Z"
   },
   {
    "duration": 37,
    "start_time": "2024-11-06T15:11:19.117Z"
   },
   {
    "duration": 14,
    "start_time": "2024-11-06T15:11:19.156Z"
   },
   {
    "duration": 5,
    "start_time": "2024-11-06T15:11:19.172Z"
   },
   {
    "duration": 17,
    "start_time": "2024-11-06T15:11:19.205Z"
   },
   {
    "duration": 19,
    "start_time": "2024-11-06T15:11:19.223Z"
   },
   {
    "duration": 14,
    "start_time": "2024-11-06T15:11:19.244Z"
   },
   {
    "duration": 7,
    "start_time": "2024-11-06T15:11:19.260Z"
   },
   {
    "duration": 44,
    "start_time": "2024-11-06T15:11:19.268Z"
   },
   {
    "duration": 29,
    "start_time": "2024-11-06T15:11:19.313Z"
   },
   {
    "duration": 5,
    "start_time": "2024-11-06T15:11:19.344Z"
   },
   {
    "duration": 10,
    "start_time": "2024-11-06T15:11:19.351Z"
   },
   {
    "duration": 8,
    "start_time": "2024-11-06T15:11:19.363Z"
   },
   {
    "duration": 36,
    "start_time": "2024-11-06T15:11:19.373Z"
   },
   {
    "duration": 8,
    "start_time": "2024-11-06T15:11:19.411Z"
   },
   {
    "duration": 14,
    "start_time": "2024-11-06T15:11:19.423Z"
   },
   {
    "duration": 12,
    "start_time": "2024-11-06T15:11:19.439Z"
   },
   {
    "duration": 83,
    "start_time": "2024-11-06T15:11:19.453Z"
   },
   {
    "duration": 180,
    "start_time": "2024-11-06T15:11:19.538Z"
   },
   {
    "duration": 177,
    "start_time": "2024-11-06T15:11:19.719Z"
   },
   {
    "duration": 8,
    "start_time": "2024-11-06T15:11:19.897Z"
   },
   {
    "duration": 2,
    "start_time": "2024-11-06T15:11:19.906Z"
   },
   {
    "duration": 2,
    "start_time": "2024-11-06T15:11:19.910Z"
   },
   {
    "duration": 2,
    "start_time": "2024-11-06T15:11:19.914Z"
   },
   {
    "duration": 2,
    "start_time": "2024-11-06T15:11:19.918Z"
   },
   {
    "duration": 2,
    "start_time": "2024-11-06T15:11:19.922Z"
   },
   {
    "duration": 6,
    "start_time": "2024-11-06T15:11:56.917Z"
   },
   {
    "duration": 5,
    "start_time": "2024-11-06T16:02:00.525Z"
   },
   {
    "duration": 136,
    "start_time": "2024-11-06T16:12:59.061Z"
   },
   {
    "duration": 5,
    "start_time": "2024-11-06T16:25:35.637Z"
   },
   {
    "duration": 5,
    "start_time": "2024-11-06T16:25:55.996Z"
   },
   {
    "duration": 5,
    "start_time": "2024-11-06T16:27:18.480Z"
   },
   {
    "duration": 6,
    "start_time": "2024-11-06T16:45:00.547Z"
   },
   {
    "duration": 20,
    "start_time": "2024-11-06T16:57:13.273Z"
   },
   {
    "duration": 27,
    "start_time": "2024-11-06T16:57:55.242Z"
   },
   {
    "duration": 145,
    "start_time": "2024-11-06T17:01:51.763Z"
   },
   {
    "duration": 186,
    "start_time": "2024-11-06T17:09:42.489Z"
   },
   {
    "duration": 84,
    "start_time": "2024-11-06T18:08:59.981Z"
   },
   {
    "duration": 104,
    "start_time": "2024-11-06T19:05:21.571Z"
   },
   {
    "duration": 95,
    "start_time": "2024-11-06T19:06:04.529Z"
   },
   {
    "duration": 158,
    "start_time": "2024-11-06T19:14:45.753Z"
   },
   {
    "duration": 172,
    "start_time": "2024-11-06T19:15:24.846Z"
   },
   {
    "duration": 108,
    "start_time": "2024-11-06T19:15:51.137Z"
   },
   {
    "duration": 161,
    "start_time": "2024-11-06T20:00:39.074Z"
   },
   {
    "duration": 247,
    "start_time": "2024-11-06T20:00:56.822Z"
   },
   {
    "duration": 177,
    "start_time": "2024-11-06T20:08:27.942Z"
   },
   {
    "duration": 162,
    "start_time": "2024-11-06T20:46:12.749Z"
   },
   {
    "duration": 349,
    "start_time": "2024-11-06T21:15:19.774Z"
   },
   {
    "duration": 187,
    "start_time": "2024-11-06T21:18:07.039Z"
   },
   {
    "duration": 103,
    "start_time": "2024-11-06T21:18:53.161Z"
   },
   {
    "duration": 12,
    "start_time": "2024-11-06T23:24:16.466Z"
   },
   {
    "duration": 12,
    "start_time": "2024-11-06T23:25:36.032Z"
   },
   {
    "duration": 7,
    "start_time": "2024-11-07T00:58:26.864Z"
   },
   {
    "duration": 12,
    "start_time": "2024-11-07T01:44:19.324Z"
   },
   {
    "duration": 376,
    "start_time": "2024-11-07T02:27:38.999Z"
   },
   {
    "duration": 326,
    "start_time": "2024-11-07T02:28:03.931Z"
   },
   {
    "duration": 9,
    "start_time": "2024-11-07T02:38:42.361Z"
   },
   {
    "duration": 3,
    "start_time": "2024-11-07T03:02:49.351Z"
   },
   {
    "duration": 155,
    "start_time": "2024-11-07T03:02:49.356Z"
   },
   {
    "duration": 23,
    "start_time": "2024-11-07T03:02:49.562Z"
   },
   {
    "duration": 7,
    "start_time": "2024-11-07T03:02:49.587Z"
   },
   {
    "duration": 11,
    "start_time": "2024-11-07T03:02:49.596Z"
   },
   {
    "duration": 3,
    "start_time": "2024-11-07T03:02:49.611Z"
   },
   {
    "duration": 10,
    "start_time": "2024-11-07T03:02:49.616Z"
   },
   {
    "duration": 10,
    "start_time": "2024-11-07T03:02:49.628Z"
   },
   {
    "duration": 5,
    "start_time": "2024-11-07T03:02:49.674Z"
   },
   {
    "duration": 2,
    "start_time": "2024-11-07T03:02:49.705Z"
   },
   {
    "duration": 18,
    "start_time": "2024-11-07T03:02:49.709Z"
   },
   {
    "duration": 6,
    "start_time": "2024-11-07T03:02:49.728Z"
   },
   {
    "duration": 26,
    "start_time": "2024-11-07T03:02:49.759Z"
   },
   {
    "duration": 42,
    "start_time": "2024-11-07T03:02:49.787Z"
   },
   {
    "duration": 13,
    "start_time": "2024-11-07T03:02:49.831Z"
   },
   {
    "duration": 5,
    "start_time": "2024-11-07T03:02:49.846Z"
   },
   {
    "duration": 16,
    "start_time": "2024-11-07T03:02:49.853Z"
   },
   {
    "duration": 31,
    "start_time": "2024-11-07T03:02:49.887Z"
   },
   {
    "duration": 17,
    "start_time": "2024-11-07T03:02:49.921Z"
   },
   {
    "duration": 10,
    "start_time": "2024-11-07T03:02:49.940Z"
   },
   {
    "duration": 21,
    "start_time": "2024-11-07T03:02:49.952Z"
   },
   {
    "duration": 52,
    "start_time": "2024-11-07T03:02:49.974Z"
   },
   {
    "duration": 6,
    "start_time": "2024-11-07T03:02:50.028Z"
   },
   {
    "duration": 10,
    "start_time": "2024-11-07T03:02:50.036Z"
   },
   {
    "duration": 9,
    "start_time": "2024-11-07T03:02:50.047Z"
   },
   {
    "duration": 7,
    "start_time": "2024-11-07T03:02:50.057Z"
   },
   {
    "duration": 43,
    "start_time": "2024-11-07T03:02:50.067Z"
   },
   {
    "duration": 15,
    "start_time": "2024-11-07T03:02:50.112Z"
   },
   {
    "duration": 12,
    "start_time": "2024-11-07T03:02:50.128Z"
   },
   {
    "duration": 74,
    "start_time": "2024-11-07T03:02:50.143Z"
   },
   {
    "duration": 165,
    "start_time": "2024-11-07T03:02:50.219Z"
   },
   {
    "duration": 163,
    "start_time": "2024-11-07T03:02:50.386Z"
   },
   {
    "duration": 5,
    "start_time": "2024-11-07T03:02:50.551Z"
   },
   {
    "duration": 120,
    "start_time": "2024-11-07T03:02:50.558Z"
   },
   {
    "duration": 163,
    "start_time": "2024-11-07T03:02:50.680Z"
   },
   {
    "duration": 185,
    "start_time": "2024-11-07T03:02:50.844Z"
   },
   {
    "duration": 104,
    "start_time": "2024-11-07T03:02:51.031Z"
   },
   {
    "duration": 168,
    "start_time": "2024-11-07T03:02:51.137Z"
   },
   {
    "duration": 253,
    "start_time": "2024-11-07T03:02:51.307Z"
   },
   {
    "duration": 117,
    "start_time": "2024-11-07T03:02:51.561Z"
   },
   {
    "duration": 323,
    "start_time": "2024-11-07T03:02:51.682Z"
   },
   {
    "duration": 183,
    "start_time": "2024-11-07T03:02:52.006Z"
   },
   {
    "duration": 16,
    "start_time": "2024-11-07T03:02:52.191Z"
   },
   {
    "duration": 6,
    "start_time": "2024-11-07T03:02:52.208Z"
   },
   {
    "duration": 13,
    "start_time": "2024-11-07T03:02:52.216Z"
   }
  ],
  "colab": {
   "provenance": []
  },
  "kernelspec": {
   "display_name": "Python 3 (ipykernel)",
   "language": "python",
   "name": "python3"
  },
  "language_info": {
   "codemirror_mode": {
    "name": "ipython",
    "version": 3
   },
   "file_extension": ".py",
   "mimetype": "text/x-python",
   "name": "python",
   "nbconvert_exporter": "python",
   "pygments_lexer": "ipython3",
   "version": "3.9.19"
  },
  "toc": {
   "base_numbering": 1,
   "nav_menu": {
    "height": "132.997px",
    "width": "309.801px"
   },
   "number_sections": true,
   "sideBar": true,
   "skip_h1_title": false,
   "title_cell": "Table of Contents",
   "title_sidebar": "Contents",
   "toc_cell": false,
   "toc_position": {
    "height": "calc(100% - 180px)",
    "left": "10px",
    "top": "150px",
    "width": "258.338px"
   },
   "toc_section_display": true,
   "toc_window_display": true
  }
 },
 "nbformat": 4,
 "nbformat_minor": 1
}
